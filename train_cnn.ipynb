{
 "cells": [
  {
   "cell_type": "code",
   "execution_count": 38,
   "metadata": {
    "collapsed": true
   },
   "outputs": [],
   "source": [
    "from pathlib import Path"
   ]
  },
  {
   "cell_type": "code",
   "execution_count": 39,
   "metadata": {
    "collapsed": true
   },
   "outputs": [],
   "source": [
    "# size = 112\n",
    "size = 56\n",
    "image_class_paths = [Path('./image_classes')]"
   ]
  },
  {
   "cell_type": "markdown",
   "metadata": {},
   "source": [
    "## Check Hardware and Tools"
   ]
  },
  {
   "cell_type": "code",
   "execution_count": 40,
   "metadata": {
    "collapsed": true
   },
   "outputs": [],
   "source": [
    "import tensorflow as tf"
   ]
  },
  {
   "cell_type": "code",
   "execution_count": 41,
   "metadata": {},
   "outputs": [
    {
     "data": {
      "text/plain": [
       "'1.4.0'"
      ]
     },
     "execution_count": 41,
     "metadata": {},
     "output_type": "execute_result"
    }
   ],
   "source": [
    "tf.__version__"
   ]
  },
  {
   "cell_type": "code",
   "execution_count": 42,
   "metadata": {
    "collapsed": true
   },
   "outputs": [],
   "source": [
    "from tensorflow.python.client import device_lib"
   ]
  },
  {
   "cell_type": "code",
   "execution_count": 43,
   "metadata": {},
   "outputs": [
    {
     "name": "stdout",
     "output_type": "stream",
     "text": [
      "name: \"/device:CPU:0\"\n",
      "device_type: \"CPU\"\n",
      "memory_limit: 268435456\n",
      "locality {\n",
      "}\n",
      "incarnation: 12411798709480598135\n",
      "\n",
      "name: \"/device:GPU:0\"\n",
      "device_type: \"GPU\"\n",
      "memory_limit: 11332668621\n",
      "locality {\n",
      "  bus_id: 1\n",
      "}\n",
      "incarnation: 10528124149017856693\n",
      "physical_device_desc: \"device: 0, name: Tesla K80, pci bus id: 0000:00:1e.0, compute capability: 3.7\"\n",
      "\n"
     ]
    }
   ],
   "source": [
    "for d in device_lib.list_local_devices():\n",
    "    print(d)"
   ]
  },
  {
   "cell_type": "markdown",
   "metadata": {},
   "source": [
    "## Resize Input Images"
   ]
  },
  {
   "cell_type": "code",
   "execution_count": 291,
   "metadata": {
    "collapsed": true
   },
   "outputs": [],
   "source": [
    "from matplotlib import pyplot as plt\n",
    "%matplotlib inline"
   ]
  },
  {
   "cell_type": "code",
   "execution_count": 292,
   "metadata": {
    "collapsed": true
   },
   "outputs": [],
   "source": [
    "from skimage.transform import resize"
   ]
  },
  {
   "cell_type": "code",
   "execution_count": 293,
   "metadata": {
    "collapsed": true
   },
   "outputs": [],
   "source": [
    "from pathlib import Path\n",
    "from PIL import Image\n",
    "import numpy as np\n",
    "import pickle"
   ]
  },
  {
   "cell_type": "code",
   "execution_count": 294,
   "metadata": {
    "collapsed": true
   },
   "outputs": [],
   "source": [
    "image_classes_path = Path('./image_classes')\n",
    "image_class_resized_path = [Path('./image_classes_resized')]\n",
    "# image_class_resized_path = [Path('./image_classes_resized'), Path('./theo_image_classes_resized')]"
   ]
  },
  {
   "cell_type": "code",
   "execution_count": 296,
   "metadata": {
    "collapsed": true
   },
   "outputs": [],
   "source": [
    "def resize_images(image_classes_path):\n",
    "    for p in image_classes_path.glob('*/*/*.pkl'):\n",
    "        _, ds, cl, mol = p.parts\n",
    "        p_r = Path(str(image_classes_path) + '_resized') / ds / cl / mol\n",
    "        if not p_r.parent.exists():\n",
    "            p_r.parent.mkdir(parents=True)\n",
    "\n",
    "        img = np.load(open(p, 'rb'))\n",
    "        img_r = resize(img, (size, size), mode='reflect')\n",
    "        img_r.dump(open(p_r, 'wb'))\n",
    "\n",
    "for path in image_class_paths:\n",
    "    resize_images(path)"
   ]
  },
  {
   "cell_type": "code",
   "execution_count": 297,
   "metadata": {
    "collapsed": true
   },
   "outputs": [],
   "source": [
    "p = Path('image_classes_resized/0600145A6-/neg/C20H34O2-H.pkl')"
   ]
  },
  {
   "cell_type": "code",
   "execution_count": 300,
   "metadata": {},
   "outputs": [
    {
     "data": {
      "text/plain": [
       "(56, 56)"
      ]
     },
     "execution_count": 300,
     "metadata": {},
     "output_type": "execute_result"
    }
   ],
   "source": [
    "img = np.load(open(p, 'rb'))\n",
    "img.shape"
   ]
  },
  {
   "cell_type": "code",
   "execution_count": 301,
   "metadata": {},
   "outputs": [
    {
     "data": {
      "text/plain": [
       "<matplotlib.image.AxesImage at 0x7f6327ba3d30>"
      ]
     },
     "execution_count": 301,
     "metadata": {},
     "output_type": "execute_result"
    },
    {
     "data": {
      "image/png": "[encoded data removed]",
      "text/plain": [
       "<matplotlib.figure.Figure at 0x7f6328dd3c50>"
      ]
     },
     "metadata": {},
     "output_type": "display_data"
    }
   ],
   "source": [
    "plt.imshow(img)"
   ]
  },
  {
   "cell_type": "markdown",
   "metadata": {},
   "source": [
    "## Load Input Data"
   ]
  },
  {
   "cell_type": "code",
   "execution_count": 44,
   "metadata": {
    "collapsed": true
   },
   "outputs": [],
   "source": [
    "import numpy as np\n",
    "import pandas as pd\n",
    "from pathlib import Path\n",
    "import seaborn as sns"
   ]
  },
  {
   "cell_type": "code",
   "execution_count": 45,
   "metadata": {
    "collapsed": true
   },
   "outputs": [],
   "source": [
    "from matplotlib import pyplot as plt\n",
    "%matplotlib inline"
   ]
  },
  {
   "cell_type": "code",
   "execution_count": 46,
   "metadata": {},
   "outputs": [
    {
     "data": {
      "text/plain": [
       "[PosixPath('image_classes'), PosixPath('theo_image_classes_orbi_na')]"
      ]
     },
     "execution_count": 46,
     "metadata": {},
     "output_type": "execute_result"
    }
   ],
   "source": [
    "# image_data_path = Path('./image_classes_resized')\n",
    "# image_data_path = Path('./theo_image_classes_resized')\n",
    "image_class_paths"
   ]
  },
  {
   "cell_type": "code",
   "execution_count": 47,
   "metadata": {},
   "outputs": [
    {
     "name": "stdout",
     "output_type": "stream",
     "text": [
      "image_classes_resized\n",
      "theo_image_classes_orbi_na_resized\n"
     ]
    },
    {
     "data": {
      "text/plain": [
       "((23206, 56, 56), (23206, 1), (23206,))"
      ]
     },
     "execution_count": 47,
     "metadata": {},
     "output_type": "execute_result"
    }
   ],
   "source": [
    "images = []  # images\n",
    "groups = []  # datasets\n",
    "labels = []  # classes\n",
    "for image_class_path in map(lambda p: Path(str(p) + '_resized'), image_class_paths):\n",
    "    print(image_class_path)\n",
    "    for p in image_class_path.glob('*/*/*.pkl'):\n",
    "        _, ds_name, cl, _ = p.parts\n",
    "        img = np.load(open(p, 'rb'))\n",
    "        images.append(img)\n",
    "        groups.append(ds_name)\n",
    "        labels.append(1 if cl == 'pos' else 0)\n",
    "\n",
    "# order = np.arange(0, len(images))\n",
    "# np.random.shuffle(order)\n",
    "images = np.asarray(images).astype('float32')\n",
    "groups = np.asarray(groups)\n",
    "classes = np.asarray(labels).astype('float32').reshape((-1,1))\n",
    "\n",
    "images.shape, classes.shape, groups.shape"
   ]
  },
  {
   "cell_type": "code",
   "execution_count": 48,
   "metadata": {},
   "outputs": [
    {
     "data": {
      "text/plain": [
       "102"
      ]
     },
     "execution_count": 48,
     "metadata": {},
     "output_type": "execute_result"
    }
   ],
   "source": [
    "group_list = np.unique(groups).tolist()\n",
    "groups_n = len(group_list)\n",
    "groups_n"
   ]
  },
  {
   "cell_type": "code",
   "execution_count": 49,
   "metadata": {
    "collapsed": true
   },
   "outputs": [],
   "source": [
    "df = pd.DataFrame({'label': labels, 'gr': groups, 'v': 1})\n",
    "gr = df.groupby(['gr', 'label'])\n",
    "df2 = gr.count().reset_index()\n",
    "df3 = pd.pivot(index=df2.gr, columns=df2.label, values=df2.v).reset_index()\n",
    "df3.columns = ['gr', 'neg', 'pos']\n",
    "# df3"
   ]
  },
  {
   "cell_type": "code",
   "execution_count": 50,
   "metadata": {},
   "outputs": [
    {
     "data": {
      "text/plain": [
       "<matplotlib.legend.Legend at 0x7f3a3a185978>"
      ]
     },
     "execution_count": 50,
     "metadata": {},
     "output_type": "execute_result"
    },
    {
     "data": {
      "image/png": "[encoded data removed]",
      "text/plain": [
       "<matplotlib.figure.Figure at 0x7f3a535db208>"
      ]
     },
     "metadata": {},
     "output_type": "display_data"
    }
   ],
   "source": [
    "fig, ax = plt.subplots(figsize=(16, 5))\n",
    "x = np.arange(df3.shape[0])\n",
    "rect1 = ax.bar(x, df3.pos, color='red')\n",
    "rect2 = ax.bar(x, df3.neg, bottom=df3.pos, color='blue')\n",
    "ax.set_xticks(x)\n",
    "ax.set_xticklabels(df3.gr.map(lambda s: s[:20]), rotation=90, fontdict={'size': 7});\n",
    "ax.legend((rect1, rect2), ('off sample', 'on sample'))"
   ]
  },
  {
   "cell_type": "code",
   "execution_count": 51,
   "metadata": {},
   "outputs": [
    {
     "data": {
      "text/plain": [
       "neg    15665.0\n",
       "pos     7541.0\n",
       "dtype: float64"
      ]
     },
     "execution_count": 51,
     "metadata": {},
     "output_type": "execute_result"
    }
   ],
   "source": [
    "df3[['neg', 'pos']].sum()"
   ]
  },
  {
   "cell_type": "code",
   "execution_count": 54,
   "metadata": {
    "collapsed": true
   },
   "outputs": [],
   "source": [
    "# img = np.load('/data/intsco/capstone/theo_image_classes_orbi_na_resized/NCSU_M8_mouse_brain/pos/C19H12O6+H.pkl')\n",
    "# plt.imshow(resize(img, (size, size), mode='edge'))"
   ]
  },
  {
   "cell_type": "markdown",
   "metadata": {},
   "source": [
    "## Data Augmentation"
   ]
  },
  {
   "cell_type": "code",
   "execution_count": 413,
   "metadata": {
    "collapsed": true
   },
   "outputs": [],
   "source": [
    "import keras\n",
    "from keras.preprocessing.image import ImageDataGenerator"
   ]
  },
  {
   "cell_type": "code",
   "execution_count": 386,
   "metadata": {},
   "outputs": [
    {
     "data": {
      "text/plain": [
       "((23206, 56, 56, 1), (23206, 2))"
      ]
     },
     "execution_count": 386,
     "metadata": {},
     "output_type": "execute_result"
    }
   ],
   "source": [
    "X = images.reshape((-1, size, size, 1))\n",
    "y = keras.utils.to_categorical(classes, 2)\n",
    "X.shape, y.shape"
   ]
  },
  {
   "cell_type": "code",
   "execution_count": 411,
   "metadata": {
    "collapsed": true
   },
   "outputs": [],
   "source": [
    "image_data_gen = ImageDataGenerator(\n",
    "#     featurewise_center=True,\n",
    "#     featurewise_std_normalization=True,\n",
    "#     zca_whitening=True,\n",
    "#     rotation_range=90,\n",
    "#     width_shift_range=0.2,\n",
    "#     height_shift_range=0.2,\n",
    "    horizontal_flip=True,\n",
    "    vertical_flip=True,\n",
    "    rescale=0.3\n",
    "    )"
   ]
  },
  {
   "cell_type": "code",
   "execution_count": 407,
   "metadata": {
    "collapsed": true
   },
   "outputs": [],
   "source": [
    "# image_data_gen.fit(X)"
   ]
  },
  {
   "cell_type": "code",
   "execution_count": 408,
   "metadata": {},
   "outputs": [
    {
     "name": "stderr",
     "output_type": "stream",
     "text": [
      "/home/ubuntu/src/anaconda3/envs/off-smpl/lib/python3.6/site-packages/keras/preprocessing/image.py:506: UserWarning: This ImageDataGenerator specifies `featurewise_center`, but it hasn'tbeen fit on any training data. Fit it first by calling `.fit(numpy_data)`.\n",
      "  warnings.warn('This ImageDataGenerator specifies '\n",
      "/home/ubuntu/src/anaconda3/envs/off-smpl/lib/python3.6/site-packages/keras/preprocessing/image.py:514: UserWarning: This ImageDataGenerator specifies `featurewise_std_normalization`, but it hasn'tbeen fit on any training data. Fit it first by calling `.fit(numpy_data)`.\n",
      "  warnings.warn('This ImageDataGenerator specifies '\n"
     ]
    },
    {
     "data": {
      "image/png": "[encoded data removed]",
      "text/plain": [
       "<matplotlib.figure.Figure at 0x7f6283d219b0>"
      ]
     },
     "metadata": {},
     "output_type": "display_data"
    }
   ],
   "source": [
    "for X_batch, y_batch in image_data_gen.flow(X, y, batch_size=9):\n",
    "\t# create a grid of 3x3 images\n",
    "\tfor i in range(0, 9):\n",
    "\t\tplt.subplot(330 + 1 + i)\n",
    "\t\tplt.imshow(X_batch[i][:,:,0], cmap='viridis')\n",
    "\t# show the plot\n",
    "\tplt.show()\n",
    "\tbreak"
   ]
  },
  {
   "cell_type": "code",
   "execution_count": 57,
   "metadata": {
    "collapsed": true
   },
   "outputs": [],
   "source": [
    "# scaling_factor = 3\n",
    "# neg_n = (y_gr[:,1] == 0).sum()\n",
    "# pos_n = (y_gr[:,1] == 1).sum()\n",
    "# n = X_gr.shape[0]\n",
    "# m = scaling_factor * n\n",
    "# aug_neg_n = aug_pos_n = m // 2\n",
    "# aug_neg_n, aug_pos_n"
   ]
  },
  {
   "cell_type": "code",
   "execution_count": 27,
   "metadata": {
    "collapsed": true
   },
   "outputs": [],
   "source": [
    "def augment_group_class(X, y, cl, size):\n",
    "    batch_size = 32\n",
    "    gen = image_data_gen.flow(X, y, batch_size=1)\n",
    "    X_aug_l, y_aug_l = [], []\n",
    "    n = 0\n",
    "    while True:\n",
    "        X_a, y_a = next(gen)\n",
    "        X_aug_l.append(X_a)\n",
    "        y_aug_l.append(y_a)\n",
    "\n",
    "        n += X_a.shape[0]\n",
    "        if n >= size:\n",
    "            break\n",
    "    return np.concatenate(X_aug_l), np.concatenate(y_aug_l)"
   ]
  },
  {
   "cell_type": "code",
   "execution_count": 28,
   "metadata": {
    "collapsed": true
   },
   "outputs": [],
   "source": [
    "def augment_group(X, y, size=1024):\n",
    "    X_cl_aug_l, y_cl_aug_l = [], []\n",
    "    for cl in [0, 1]:\n",
    "        mask = y[:,1] == cl\n",
    "        X_cl, y_cl = X[mask], y[mask]\n",
    "        X_cl_aug, y_cl_aug = augment_group_class(X_cl, y_cl, cl, size=size//2)\n",
    "#         print(X_cl_aug.shape)\n",
    "        X_cl_aug_l.append(X_cl_aug), y_cl_aug_l.append(y_cl_aug)\n",
    "    \n",
    "    order = np.arange(0, size)\n",
    "    np.random.shuffle(order)\n",
    "    \n",
    "    return np.concatenate(X_cl_aug_l)[order], np.concatenate(y_cl_aug_l)[order]"
   ]
  },
  {
   "cell_type": "code",
   "execution_count": 29,
   "metadata": {},
   "outputs": [
    {
     "data": {
      "text/plain": [
       "array(['120TopL_90TopR_110BottomL_100BottomR-centroid', '161007_WT1S1L1',\n",
       "       '170220_PigBuccalMucosaAzDiaz1h_10um_231by185_atn30',\n",
       "       '170418_MouseBrain_pos_50um_205by129_atn0',\n",
       "       '20170503_ADP-JS_CD1-Brain_dan005_117x143_60x60_N',\n",
       "       'AstraZeneca__Rat_testis', 'CC-Esco2_centroids', 'Dataset 16',\n",
       "       'Dataset 18', 'Dataset 27', 'Dataset 3', 'Dataset 30',\n",
       "       'Esco1_centroids', 'Esco2_centroids', 'MP 39',\n",
       "       'Mousebrain_MG08_2017_GruppeA', 'Tumor11',\n",
       "       'UoNotreDame__Untreated_6_574', 'Xenograft_3_135um'],\n",
       "      dtype='<U50')"
      ]
     },
     "execution_count": 29,
     "metadata": {},
     "output_type": "execute_result"
    }
   ],
   "source": [
    "group_list = np.unique(groups)\n",
    "group_list"
   ]
  },
  {
   "cell_type": "code",
   "execution_count": 30,
   "metadata": {
    "collapsed": true
   },
   "outputs": [],
   "source": [
    "def augment_data(X, y, groups, group_list, size=1024):\n",
    "    X_l, y_l, gr_l = [], [], []\n",
    "    for gr in group_list:\n",
    "        X_a, y_a = augment_group(X[groups == gr], y[groups == gr], size=size)\n",
    "        X_l.append(X_a)\n",
    "        y_l.append(y_a)\n",
    "        gr_l.append([gr]*X_a.shape[0])\n",
    "    return np.concatenate(X_l), np.concatenate(y_l), np.concatenate(gr_l)"
   ]
  },
  {
   "cell_type": "code",
   "execution_count": 31,
   "metadata": {
    "collapsed": true
   },
   "outputs": [],
   "source": [
    "# group_list = np.unique(groups)\n",
    "# X_aug, y_aug, groups_aug = augment_data(X, y, groups, group_list)\n",
    "\n",
    "# X_aug.shape, y_aug.shape, y_aug[:,0].sum(), y_aug[:,1].sum(), groups_aug.shape\n",
    "# plt.imshow(X_aug[31,:,:,0]), y_aug[31,1]"
   ]
  },
  {
   "cell_type": "markdown",
   "metadata": {
    "collapsed": true
   },
   "source": [
    "## Train and Test Model"
   ]
  },
  {
   "cell_type": "code",
   "execution_count": 1,
   "metadata": {},
   "outputs": [
    {
     "name": "stderr",
     "output_type": "stream",
     "text": [
      "Using TensorFlow backend.\n",
      "/home/ubuntu/src/anaconda3/envs/off-smpl/lib/python3.6/importlib/_bootstrap.py:205: RuntimeWarning: compiletime version 3.5 of module 'tensorflow.python.framework.fast_tensor_util' does not match runtime version 3.6\n",
      "  return f(*args, **kwds)\n"
     ]
    }
   ],
   "source": [
    "import keras\n",
    "from sklearn.model_selection import GroupKFold\n",
    "from sklearn.metrics import roc_curve, roc_auc_score, accuracy_score, f1_score, precision_score, recall_score"
   ]
  },
  {
   "cell_type": "code",
   "execution_count": 2,
   "metadata": {
    "collapsed": true
   },
   "outputs": [],
   "source": [
    "from keras.models import Sequential\n",
    "from keras.layers import Dense, Dropout, Activation, Flatten, Conv2D, MaxPool2D\n",
    "from keras import losses\n",
    "from keras.callbacks import EarlyStopping\n",
    "from keras.regularizers import l2\n",
    "from keras.optimizers import SGD\n",
    "from keras.layers.normalization import BatchNormalization"
   ]
  },
  {
   "cell_type": "code",
   "execution_count": 3,
   "metadata": {
    "collapsed": true
   },
   "outputs": [],
   "source": [
    "def train_valid_test_split(X, y, groups, test_group, valid_ratio=0.5):\n",
    "    group_list = np.unique(groups)\n",
    "    group_list = group_list[group_list != test_group]\n",
    "\n",
    "    from sklearn.model_selection import train_test_split\n",
    "    train_groups, valid_groups = train_test_split(group_list, test_size=valid_ratio)\n",
    "\n",
    "    test_mask = groups == test_group\n",
    "    X_test, y_test = X[test_mask], y[test_mask]\n",
    "\n",
    "    valid_mask = np.asarray([gr in valid_groups for gr in groups])\n",
    "    X_valid, y_valid = X[valid_mask], y[valid_mask]\n",
    "\n",
    "    train_mask = ~(test_mask|valid_mask)\n",
    "    X_train, y_train = X[train_mask], y[train_mask]\n",
    "    return (X_train, y_train), (X_valid, y_valid), (X_test, y_test)"
   ]
  },
  {
   "cell_type": "code",
   "execution_count": 4,
   "metadata": {
    "collapsed": true
   },
   "outputs": [],
   "source": [
    "def train_valid_test_gen(X, y, groups, valid_ratio=0.5):\n",
    "    for test_group in np.unique(groups):\n",
    "        yield train_valid_test_split(X, y, groups, test_group, valid_ratio=valid_ratio)"
   ]
  },
  {
   "cell_type": "code",
   "execution_count": 5,
   "metadata": {
    "collapsed": true
   },
   "outputs": [],
   "source": [
    "#     earlyStopping = EarlyStopping(monitor='loss', min_delta=0.01)"
   ]
  },
  {
   "cell_type": "code",
   "execution_count": 6,
   "metadata": {
    "collapsed": true
   },
   "outputs": [],
   "source": [
    "def calc_metrics(y_test, y_test_score):\n",
    "    y_true = y_test[:,1]\n",
    "    y_test_pred = np.round(y_test_score[:,1], decimals=0)\n",
    "\n",
    "    return {\n",
    "        'auc': roc_auc_score(y_test, y_test_score),\n",
    "        'accuracy': accuracy_score(y_true, y_test_pred),\n",
    "        'f1': f1_score(y_true, y_test_pred),\n",
    "        'precision': precision_score(y_true, y_test_pred),\n",
    "        'recall': recall_score(y_true, y_test_pred)\n",
    "   }"
   ]
  },
  {
   "cell_type": "markdown",
   "metadata": {},
   "source": [
    "#### Fitting Model"
   ]
  },
  {
   "cell_type": "code",
   "execution_count": 14,
   "metadata": {
    "scrolled": false
   },
   "outputs": [
    {
     "name": "stdout",
     "output_type": "stream",
     "text": [
      "_________________________________________________________________\n",
      "Layer (type)                 Output Shape              Param #   \n",
      "=================================================================\n",
      "conv2d_5 (Conv2D)            (None, 56, 56, 16)        160       \n",
      "_________________________________________________________________\n",
      "batch_normalization_5 (Batch (None, 56, 56, 16)        64        \n",
      "_________________________________________________________________\n",
      "activation_8 (Activation)    (None, 56, 56, 16)        0         \n",
      "_________________________________________________________________\n",
      "conv2d_6 (Conv2D)            (None, 56, 56, 16)        2320      \n",
      "_________________________________________________________________\n",
      "batch_normalization_6 (Batch (None, 56, 56, 16)        64        \n",
      "_________________________________________________________________\n",
      "activation_9 (Activation)    (None, 56, 56, 16)        0         \n",
      "_________________________________________________________________\n",
      "max_pooling2d_3 (MaxPooling2 (None, 18, 18, 16)        0         \n",
      "_________________________________________________________________\n",
      "conv2d_7 (Conv2D)            (None, 18, 18, 32)        4640      \n",
      "_________________________________________________________________\n",
      "batch_normalization_7 (Batch (None, 18, 18, 32)        128       \n",
      "_________________________________________________________________\n",
      "activation_10 (Activation)   (None, 18, 18, 32)        0         \n",
      "_________________________________________________________________\n",
      "conv2d_8 (Conv2D)            (None, 18, 18, 32)        9248      \n",
      "_________________________________________________________________\n",
      "batch_normalization_8 (Batch (None, 18, 18, 32)        128       \n",
      "_________________________________________________________________\n",
      "activation_11 (Activation)   (None, 18, 18, 32)        0         \n",
      "_________________________________________________________________\n",
      "max_pooling2d_4 (MaxPooling2 (None, 6, 6, 32)          0         \n",
      "_________________________________________________________________\n",
      "flatten_2 (Flatten)          (None, 1152)              0         \n",
      "_________________________________________________________________\n",
      "dense_4 (Dense)              (None, 256)               295168    \n",
      "_________________________________________________________________\n",
      "activation_12 (Activation)   (None, 256)               0         \n",
      "_________________________________________________________________\n",
      "dense_5 (Dense)              (None, 256)               65792     \n",
      "_________________________________________________________________\n",
      "activation_13 (Activation)   (None, 256)               0         \n",
      "_________________________________________________________________\n",
      "dense_6 (Dense)              (None, 2)                 514       \n",
      "_________________________________________________________________\n",
      "activation_14 (Activation)   (None, 2)                 0         \n",
      "=================================================================\n",
      "Total params: 378,226\n",
      "Trainable params: 378,034\n",
      "Non-trainable params: 192\n",
      "_________________________________________________________________\n"
     ]
    }
   ],
   "source": [
    "def create_model(opt='adam', metrics=None):\n",
    "    model = Sequential()\n",
    "    \n",
    "    alpha = 0.05\n",
    "    strides = (1, 1)\n",
    "    pool_size = (3, 3)\n",
    "    model.add(Conv2D(16, 3, strides=strides, padding='same', input_shape=(size, size, 1),\n",
    "                     kernel_regularizer=l2(alpha)))\n",
    "    model.add(BatchNormalization())\n",
    "    model.add(Activation('relu'))\n",
    "    model.add(Conv2D(16, 3, strides=strides, padding='same',\n",
    "                    kernel_regularizer=l2(alpha)))\n",
    "    model.add(BatchNormalization())\n",
    "    model.add(Activation('relu'))\n",
    "    model.add(MaxPool2D(pool_size=pool_size))\n",
    "\n",
    "    model.add(Conv2D(32, 3, strides=strides, padding='same',\n",
    "                     kernel_regularizer=l2(alpha)))\n",
    "    model.add(BatchNormalization())\n",
    "    model.add(Activation('relu'))\n",
    "    model.add(Conv2D(32, 3, strides=strides, padding='same',\n",
    "                     kernel_regularizer=l2(alpha)))\n",
    "    model.add(BatchNormalization())\n",
    "    model.add(Activation('relu'))\n",
    "    model.add(MaxPool2D(pool_size=pool_size))\n",
    "\n",
    "    model.add(Flatten())\n",
    "    \n",
    "    model.add(Dense(256, kernel_regularizer=l2(alpha)))\n",
    "    model.add(Activation('relu'))\n",
    "#     model.add(Dropout(0.5))\n",
    "    \n",
    "    model.add(Dense(256, kernel_regularizer=l2(alpha)))\n",
    "    model.add(Activation('relu'))\n",
    "#     model.add(Dropout(0.5))\n",
    "    \n",
    "    model.add(Dense(2, kernel_regularizer=l2(alpha)))\n",
    "    model.add(Activation('softmax'))\n",
    "    \n",
    "    if not metrics:\n",
    "        metrics = [keras.metrics.binary_accuracy]\n",
    "    model.compile(loss=losses.binary_crossentropy, optimizer=opt, metrics=metrics)\n",
    "    \n",
    "    return model\n",
    "create_model().summary()"
   ]
  },
  {
   "cell_type": "code",
   "execution_count": 13,
   "metadata": {
    "collapsed": true,
    "scrolled": false
   },
   "outputs": [],
   "source": [
    "# from IPython.display import SVG\n",
    "# from keras.utils.vis_utils import model_to_dot\n",
    "\n",
    "# SVG(model_to_dot(create_model()).create(prog='dot', format='svg'))"
   ]
  },
  {
   "cell_type": "code",
   "execution_count": 55,
   "metadata": {
    "collapsed": true
   },
   "outputs": [],
   "source": [
    "from keras.preprocessing.image import ImageDataGenerator\n",
    "image_data_gen = ImageDataGenerator(\n",
    "    horizontal_flip=True,\n",
    "    vertical_flip=True,\n",
    "    rescale=0.3)"
   ]
  },
  {
   "cell_type": "code",
   "execution_count": 56,
   "metadata": {},
   "outputs": [
    {
     "data": {
      "text/plain": [
       "((23206, 56, 56, 1), (23206, 2))"
      ]
     },
     "execution_count": 56,
     "metadata": {},
     "output_type": "execute_result"
    }
   ],
   "source": [
    "X = images.reshape((-1, size, size, 1))\n",
    "y = keras.utils.to_categorical(classes, 2)\n",
    "X.shape, y.shape  #X_aug.shape, y_aug.shape, groups_aug.shape"
   ]
  },
  {
   "cell_type": "code",
   "execution_count": 415,
   "metadata": {
    "scrolled": true
   },
   "outputs": [
    {
     "name": "stderr",
     "output_type": "stream",
     "text": [
      "/home/ubuntu/src/anaconda3/envs/off-smpl/lib/python3.6/site-packages/keras/preprocessing/image.py:653: UserWarning: Expected input to be images (as Numpy array) following the data format convention \"channels_last\" (channels on axis 3), i.e. expected either 1, 3 or 4 channels on axis 3. However, it was passed an array with shape (20887, 56, 56, 1) (1 channels).\n",
      "  ' (' + str(x.shape[self.channel_axis]) + ' channels).')\n"
     ]
    },
    {
     "name": "stdout",
     "output_type": "stream",
     "text": [
      "Split: 0\n",
      "Attempt: 0\n",
      "Epoch 1/3\n",
      "1304/1304 [==============================] - 51s - loss: 1.8181 - acc: 0.9710    \n",
      "Epoch 2/3\n",
      "1304/1304 [==============================] - 38s - loss: 0.1863 - acc: 0.9773    \n",
      "Epoch 3/3\n",
      "1304/1304 [==============================] - 34s - loss: 0.1841 - acc: 0.9770    \n",
      "2240/2319 [===========================>..] - ETA: 0s{'auc': 0.99762044139671713, 'accuracy': 0.98835705045278133, 'f1': 0.98632911392405054, 'precision': 0.9878296146044625, 'recall': 0.98483316481294236, 'split': '0', 'attempt': '0'}\n",
      "Attempt: 1\n",
      "Epoch 1/3\n",
      "1304/1304 [==============================] - 50s - loss: 1.7673 - acc: 0.9760    \n",
      "Epoch 2/3\n",
      "1304/1304 [==============================] - 36s - loss: 0.1853 - acc: 0.9789    \n",
      "Epoch 3/3\n",
      "1304/1304 [==============================] - 36s - loss: 0.1771 - acc: 0.9784    \n",
      "2319/2319 [==============================] - 10s    \n",
      "{'auc': 0.99287880976455289, 'accuracy': 0.95644674428633036, 'f1': 0.95094706168042742, 'precision': 0.91495327102803736, 'recall': 0.98988877654196161, 'split': '0', 'attempt': '1'}\n",
      "Attempt: 2\n",
      "Epoch 1/3\n",
      "1304/1304 [==============================] - 51s - loss: 1.7722 - acc: 0.9732    \n",
      "Epoch 2/3\n",
      "1304/1304 [==============================] - 34s - loss: 0.1876 - acc: 0.9777    \n",
      "Epoch 3/3\n",
      "1304/1304 [==============================] - 36s - loss: 0.1771 - acc: 0.9780    \n",
      "2319/2319 [==============================] - 10s    \n",
      "{'auc': 0.99633487155705236, 'accuracy': 0.97024579560155244, 'f1': 0.96562032884902838, 'precision': 0.95186640471512773, 'recall': 0.97977755308392311, 'split': '0', 'attempt': '2'}\n",
      "Attempt: 3\n",
      "Epoch 1/3\n",
      "1304/1304 [==============================] - 53s - loss: 1.7925 - acc: 0.9721    \n",
      "Epoch 2/3\n",
      "1304/1304 [==============================] - 36s - loss: 0.1818 - acc: 0.9776    \n",
      "Epoch 3/3\n",
      "1304/1304 [==============================] - 36s - loss: 0.1797 - acc: 0.9780    \n",
      "2272/2319 [============================>.] - ETA: 0s{'auc': 0.9981807400199183, 'accuracy': 0.98059508408796892, 'f1': 0.97716894977168944, 'precision': 0.9806517311608961, 'recall': 0.97371081900910006, 'split': '0', 'attempt': '3'}\n",
      "Attempt: 4\n",
      "Epoch 1/3\n",
      "1304/1304 [==============================] - 53s - loss: 1.7744 - acc: 0.9736    \n",
      "Epoch 2/3\n",
      "1304/1304 [==============================] - 37s - loss: 0.1820 - acc: 0.9776    \n",
      "Epoch 3/3\n",
      "1304/1304 [==============================] - 38s - loss: 0.1761 - acc: 0.9782    \n",
      "2240/2319 [===========================>..] - ETA: 0s{'auc': 0.99911203691736916, 'accuracy': 0.98059508408796892, 'f1': 0.97742097340692424, 'precision': 0.97011952191235062, 'recall': 0.98483316481294236, 'split': '0', 'attempt': '4'}\n",
      "\n",
      "Avg pred metrics: {'auc': 0.99950052076602025, 'accuracy': 0.98835705045278133, 'f1': 0.98639798488664987, 'precision': 0.98293172690763053, 'recall': 0.98988877654196161, 'split': '0', 'attempt': 'avg'}\n",
      "\n",
      "Split: 1\n",
      "Attempt: 0\n",
      "Epoch 1/3\n",
      "1304/1304 [==============================] - 52s - loss: 1.7770 - acc: 0.9746    \n",
      "Epoch 2/3\n",
      "1304/1304 [==============================] - 37s - loss: 0.1829 - acc: 0.9777    \n",
      "Epoch 3/3\n",
      "1304/1304 [==============================] - 36s - loss: 0.1886 - acc: 0.9771    \n",
      "2240/2319 [===========================>..] - ETA: 0s{'auc': 0.99655247728702689, 'accuracy': 0.96722725312634761, 'f1': 0.93634840871021774, 'precision': 0.8972712680577849, 'recall': 0.978984238178634, 'split': '1', 'attempt': '0'}\n",
      "Attempt: 1\n",
      "Epoch 1/3\n",
      "1304/1304 [==============================] - 49s - loss: 1.7926 - acc: 0.9708    \n",
      "Epoch 2/3\n",
      "1304/1304 [==============================] - 36s - loss: 0.1844 - acc: 0.9777    \n",
      "Epoch 3/3\n",
      "1304/1304 [==============================] - 36s - loss: 0.1814 - acc: 0.9773    \n",
      "2272/2319 [============================>.] - ETA: 0s{'auc': 0.99855025708640754, 'accuracy': 0.92151789564467446, 'f1': 0.86253776435045315, 'precision': 0.75830013280212483, 'recall': 1.0, 'split': '1', 'attempt': '1'}\n",
      "Attempt: 2\n",
      "Epoch 1/3\n",
      "1304/1304 [==============================] - 50s - loss: 1.7869 - acc: 0.9724    \n",
      "Epoch 2/3\n",
      "1304/1304 [==============================] - 37s - loss: 0.1896 - acc: 0.9759    \n",
      "Epoch 3/3\n",
      "1304/1304 [==============================] - 34s - loss: 0.1882 - acc: 0.9762    \n",
      "2272/2319 [============================>.] - ETA: 0s{'auc': 0.9901754118792756, 'accuracy': 0.92583009918068138, 'f1': 0.86769230769230776, 'precision': 0.77366255144032925, 'recall': 0.98774080560420319, 'split': '1', 'attempt': '2'}\n",
      "Attempt: 3\n",
      "Epoch 1/3\n",
      "1304/1304 [==============================] - 52s - loss: 1.7717 - acc: 0.9734    \n",
      "Epoch 2/3\n",
      "1304/1304 [==============================] - 37s - loss: 0.1864 - acc: 0.9753    \n",
      "Epoch 3/3\n",
      "1304/1304 [==============================] - 37s - loss: 0.1839 - acc: 0.9739    \n",
      "2240/2319 [===========================>..] - ETA: 0s{'auc': 0.99811643629747482, 'accuracy': 0.95429064251832685, 'f1': 0.91506410256410253, 'precision': 0.84342688330871496, 'recall': 1.0, 'split': '1', 'attempt': '3'}\n",
      "Attempt: 4\n",
      "Epoch 1/3\n",
      "1304/1304 [==============================] - 54s - loss: 1.7762 - acc: 0.9738    \n",
      "Epoch 2/3\n",
      "1304/1304 [==============================] - 34s - loss: 0.1974 - acc: 0.9762    \n",
      "Epoch 3/3\n",
      "1304/1304 [==============================] - 37s - loss: 0.1840 - acc: 0.9764    \n",
      "2319/2319 [==============================] - 11s    \n",
      "{'auc': 0.99944795553186638, 'accuracy': 0.98965071151358341, 'f1': 0.97931034482758617, 'precision': 0.96434634974533107, 'recall': 0.99474605954465845, 'split': '1', 'attempt': '4'}\n",
      "\n",
      "Avg pred metrics: {'auc': 0.99948201998180553, 'accuracy': 0.97714532125916342, 'f1': 0.95564853556485352, 'precision': 0.91506410256410253, 'recall': 1.0, 'split': '1', 'attempt': 'avg'}\n",
      "\n"
     ]
    },
    {
     "name": "stderr",
     "output_type": "stream",
     "text": [
      "/home/ubuntu/src/anaconda3/envs/off-smpl/lib/python3.6/site-packages/keras/preprocessing/image.py:653: UserWarning: Expected input to be images (as Numpy array) following the data format convention \"channels_last\" (channels on axis 3), i.e. expected either 1, 3 or 4 channels on axis 3. However, it was passed an array with shape (20882, 56, 56, 1) (1 channels).\n",
      "  ' (' + str(x.shape[self.channel_axis]) + ' channels).')\n"
     ]
    },
    {
     "name": "stdout",
     "output_type": "stream",
     "text": [
      "Split: 2\n",
      "Attempt: 0\n",
      "Epoch 1/3\n",
      "1304/1304 [==============================] - 54s - loss: 1.7726 - acc: 0.9754    \n",
      "Epoch 2/3\n",
      "1304/1304 [==============================] - 39s - loss: 0.1802 - acc: 0.9766    \n",
      "Epoch 3/3\n",
      "1304/1304 [==============================] - 38s - loss: 0.1790 - acc: 0.9772    \n",
      "2208/2324 [===========================>..] - ETA: 0s{'auc': 0.99713843206354547, 'accuracy': 0.82874354561101549, 'f1': 0.7805953693495038, 'precision': 0.64014466546112114, 'recall': 1.0, 'split': '2', 'attempt': '0'}\n",
      "Attempt: 1\n",
      "Epoch 1/3\n",
      "1304/1304 [==============================] - 48s - loss: 1.7914 - acc: 0.9722    \n",
      "Epoch 2/3\n",
      "1304/1304 [==============================] - 37s - loss: 0.1819 - acc: 0.9778    \n",
      "Epoch 3/3\n",
      "1304/1304 [==============================] - 37s - loss: 0.1874 - acc: 0.9771    \n",
      "2324/2324 [==============================] - 11s    \n",
      "{'auc': 0.99873528136711975, 'accuracy': 0.98364888123924266, 'f1': 0.97372060857538034, 'precision': 0.95392953929539293, 'recall': 0.99435028248587576, 'split': '2', 'attempt': '1'}\n",
      "Attempt: 2\n",
      "Epoch 1/3\n",
      "1304/1304 [==============================] - 55s - loss: 1.7767 - acc: 0.9739    \n",
      "Epoch 2/3\n",
      "1304/1304 [==============================] - 38s - loss: 0.1816 - acc: 0.9776    \n",
      "Epoch 3/3\n",
      "1304/1304 [==============================] - 35s - loss: 0.1865 - acc: 0.9760    - ETA: 0s - loss: 0.1863 - acc: \n",
      "2324/2324 [==============================] - 11s    \n",
      "{'auc': 0.99839965458410251, 'accuracy': 0.98235800344234081, 'f1': 0.97043979812545056, 'precision': 0.99116347569955821, 'recall': 0.95056497175141241, 'split': '2', 'attempt': '2'}\n",
      "Attempt: 3\n",
      "Epoch 1/3\n",
      "1304/1304 [==============================] - 55s - loss: 1.7729 - acc: 0.9748    \n",
      "Epoch 2/3\n",
      "1304/1304 [==============================] - 39s - loss: 0.1803 - acc: 0.9786    \n",
      "Epoch 3/3\n",
      "1304/1304 [==============================] - 39s - loss: 0.1867 - acc: 0.9767    \n",
      "2240/2324 [===========================>..] - ETA: 0s{'auc': 0.99830088941097506, 'accuracy': 0.98149741824440617, 'f1': 0.97032436162870939, 'precision': 0.94871794871794868, 'recall': 0.99293785310734461, 'split': '2', 'attempt': '3'}\n",
      "Attempt: 4\n",
      "Epoch 1/3\n",
      "1304/1304 [==============================] - 54s - loss: 1.7718 - acc: 0.9754    \n",
      "Epoch 2/3\n",
      "1304/1304 [==============================] - 35s - loss: 0.1841 - acc: 0.9779    \n",
      "Epoch 3/3\n",
      "1304/1304 [==============================] - 38s - loss: 0.1742 - acc: 0.9787    \n",
      "2176/2324 [===========================>..] - ETA: 0s{'auc': 0.98889591024780443, 'accuracy': 0.94061962134251287, 'f1': 0.9083665338645418, 'precision': 0.8571428571428571, 'recall': 0.96610169491525422, 'split': '2', 'attempt': '4'}\n",
      "\n",
      "Avg pred metrics: {'auc': 0.99978586312021034, 'accuracy': 0.98623063683304646, 'f1': 0.97783933518005539, 'precision': 0.95923913043478259, 'recall': 0.99717514124293782, 'split': '2', 'attempt': 'avg'}\n",
      "\n"
     ]
    },
    {
     "name": "stderr",
     "output_type": "stream",
     "text": [
      "/home/ubuntu/src/anaconda3/envs/off-smpl/lib/python3.6/site-packages/keras/preprocessing/image.py:653: UserWarning: Expected input to be images (as Numpy array) following the data format convention \"channels_last\" (channels on axis 3), i.e. expected either 1, 3 or 4 channels on axis 3. However, it was passed an array with shape (20885, 56, 56, 1) (1 channels).\n",
      "  ' (' + str(x.shape[self.channel_axis]) + ' channels).')\n"
     ]
    },
    {
     "name": "stdout",
     "output_type": "stream",
     "text": [
      "Split: 3\n",
      "Attempt: 0\n",
      "Epoch 1/3\n",
      "1304/1304 [==============================] - 56s - loss: 1.7763 - acc: 0.9736    \n",
      "Epoch 2/3\n",
      "1304/1304 [==============================] - 41s - loss: 0.1867 - acc: 0.9760    \n",
      "Epoch 3/3\n",
      "1304/1304 [==============================] - 41s - loss: 0.1918 - acc: 0.9754    \n",
      "2304/2321 [============================>.] - ETA: 0s{'auc': 0.99872464704237918, 'accuracy': 0.97673416630762599, 'f1': 0.96361185983827491, 'precision': 0.934640522875817, 'recall': 0.99443671766342145, 'split': '3', 'attempt': '0'}\n",
      "Attempt: 1\n",
      "Epoch 1/3\n",
      "1304/1304 [==============================] - 51s - loss: 1.7796 - acc: 0.9733    \n",
      "Epoch 2/3\n",
      "1304/1304 [==============================] - 39s - loss: 0.1815 - acc: 0.9763    \n",
      "Epoch 3/3\n",
      "1304/1304 [==============================] - 39s - loss: 0.1754 - acc: 0.9773    \n",
      "2240/2321 [===========================>..] - ETA: 0s{'auc': 0.99772103368702891, 'accuracy': 0.96423955191727706, 'f1': 0.94440723375753521, 'precision': 0.91085271317829453, 'recall': 0.98052851182197498, 'split': '3', 'attempt': '1'}\n",
      "Attempt: 2\n",
      "Epoch 1/3\n",
      "1304/1304 [==============================] - 56s - loss: 1.7832 - acc: 0.9736    \n",
      "Epoch 2/3\n",
      "1304/1304 [==============================] - 39s - loss: 0.1808 - acc: 0.9783    \n",
      "Epoch 3/3\n",
      "1304/1304 [==============================] - 36s - loss: 0.1806 - acc: 0.9779    \n",
      "2321/2321 [==============================] - 11s    \n",
      "{'auc': 0.99936275761001114, 'accuracy': 0.99052132701421802, 'f1': 0.98478561549100974, 'precision': 0.97936726272352137, 'recall': 0.99026425591098743, 'split': '3', 'attempt': '2'}\n",
      "Attempt: 3\n",
      "Epoch 1/3\n",
      "1304/1304 [==============================] - 56s - loss: 1.7699 - acc: 0.9752    \n",
      "Epoch 2/3\n",
      "1304/1304 [==============================] - 40s - loss: 0.1871 - acc: 0.9777    \n",
      "Epoch 3/3\n",
      "1304/1304 [==============================] - 39s - loss: 0.1896 - acc: 0.9767    \n",
      "2321/2321 [==============================] - 12s    \n",
      "{'auc': 0.99441023824530883, 'accuracy': 0.80525635501938819, 'f1': 0.76033934252386004, 'precision': 0.61439588688946012, 'recall': 0.99721835883171073, 'split': '3', 'attempt': '3'}\n",
      "Attempt: 4\n",
      "Epoch 1/3\n",
      "1304/1304 [==============================] - 54s - loss: 1.7720 - acc: 0.9736    \n",
      "Epoch 2/3\n",
      "1304/1304 [==============================] - 36s - loss: 0.1850 - acc: 0.9768    \n",
      "Epoch 3/3\n",
      "1304/1304 [==============================] - 37s - loss: 0.1895 - acc: 0.9773    \n",
      "2240/2321 [===========================>..] - ETA: 0s{'auc': 0.99170716715371432, 'accuracy': 0.84360189573459721, 'f1': 0.79663865546218482, 'precision': 0.66697936210131337, 'recall': 0.9888734353268428, 'split': '3', 'attempt': '4'}\n",
      "\n",
      "Avg pred metrics: {'auc': 0.99922645372005436, 'accuracy': 0.96768634209392501, 'f1': 0.95023224950232243, 'precision': 0.90862944162436543, 'recall': 0.99582753824756609, 'split': '3', 'attempt': 'avg'}\n",
      "\n",
      "Split: 4\n",
      "Attempt: 0\n",
      "Epoch 1/3\n",
      "1304/1304 [==============================] - 58s - loss: 1.7618 - acc: 0.9749    - ETA: 6s - loss: 1 - ETA: 4s - loss: 1.8933 -\n",
      "Epoch 2/3\n",
      "1304/1304 [==============================] - 41s - loss: 0.1818 - acc: 0.9774    \n",
      "Epoch 3/3\n",
      "1304/1304 [==============================] - 41s - loss: 0.1754 - acc: 0.9773    \n",
      "2208/2324 [===========================>..] - ETA: 0s{'auc': 0.98400327643216867, 'accuracy': 0.89242685025817559, 'f1': 0.79372937293729373, 'precision': 0.99175257731958766, 'recall': 0.66162310866574969, 'split': '4', 'attempt': '0'}\n",
      "Attempt: 1\n",
      "Epoch 1/3\n",
      "1304/1304 [==============================] - 57s - loss: 1.7703 - acc: 0.9746    \n",
      "Epoch 2/3\n",
      "1304/1304 [==============================] - 43s - loss: 0.1779 - acc: 0.9790    \n",
      "Epoch 3/3\n",
      "1304/1304 [==============================] - 43s - loss: 0.1806 - acc: 0.9777    \n",
      "2240/2324 [===========================>..] - ETA: 0s{'auc': 0.97407880491189203, 'accuracy': 0.93846815834767638, 'f1': 0.89554419284149023, 'precision': 0.95482866043613712, 'recall': 0.84319119669876208, 'split': '4', 'attempt': '1'}\n",
      "Attempt: 2\n",
      "Epoch 1/3\n",
      "1304/1304 [==============================] - 58s - loss: 1.7751 - acc: 0.9744    - ETA: 0s - loss: 1.7788 - acc: 0.97\n",
      "Epoch 2/3\n",
      "1304/1304 [==============================] - 40s - loss: 0.1819 - acc: 0.9780    \n",
      "Epoch 3/3\n",
      "1304/1304 [==============================] - 39s - loss: 0.1689 - acc: 0.9786    \n",
      "2324/2324 [==============================] - 12s    \n",
      "{'auc': 0.99514305967430339, 'accuracy': 0.94836488812392428, 'f1': 0.9107142857142857, 'precision': 0.99189627228525123, 'recall': 0.8418156808803301, 'split': '4', 'attempt': '2'}\n",
      "Attempt: 3\n",
      "Epoch 1/3\n",
      "1304/1304 [==============================] - 59s - loss: 1.7802 - acc: 0.9739    \n",
      "Epoch 2/3\n",
      "1304/1304 [==============================] - 41s - loss: 0.1878 - acc: 0.9793    \n",
      "Epoch 3/3\n",
      "1304/1304 [==============================] - 41s - loss: 0.1699 - acc: 0.9793    \n",
      "2240/2324 [===========================>..] - ETA: 0s{'auc': 0.99418786428129091, 'accuracy': 0.97848537005163516, 'f1': 0.96508379888268159, 'precision': 0.98014184397163118, 'recall': 0.95048143053645118, 'split': '4', 'attempt': '3'}\n",
      "Attempt: 4\n",
      "Epoch 1/3\n",
      "1304/1304 [==============================] - 54s - loss: 1.7717 - acc: 0.9738    \n",
      "Epoch 2/3\n",
      "1304/1304 [==============================] - 41s - loss: 0.1690 - acc: 0.9795    \n",
      "Epoch 3/3\n",
      "1304/1304 [==============================] - 41s - loss: 0.1745 - acc: 0.9778    \n",
      "2240/2324 [===========================>..] - ETA: 0s{'auc': 0.9583572706389818, 'accuracy': 0.90017211703958688, 'f1': 0.82763744427934627, 'precision': 0.89983844911147015, 'recall': 0.76616231086657494, 'split': '4', 'attempt': '4'}\n",
      "\n",
      "Avg pred metrics: {'auc': 0.99339890217128235, 'accuracy': 0.96772805507745263, 'f1': 0.94608195542774987, 'precision': 0.99096385542168675, 'recall': 0.90508940852819808, 'split': '4', 'attempt': 'avg'}\n",
      "\n",
      "Split: 5\n",
      "Attempt: 0\n",
      "Epoch 1/3\n",
      "1304/1304 [==============================] - 58s - loss: 1.7772 - acc: 0.9725    \n",
      "Epoch 2/3\n",
      "1304/1304 [==============================] - 40s - loss: 0.1883 - acc: 0.9759    \n",
      "Epoch 3/3\n",
      "1304/1304 [==============================] - 35s - loss: 0.1786 - acc: 0.9779    \n",
      "2240/2319 [===========================>..] - ETA: 0s{'auc': 0.99616949514291675, 'accuracy': 0.97542043984476068, 'f1': 0.97284421152929956, 'precision': 0.9659413434247871, 'recall': 0.97984644913627639, 'split': '5', 'attempt': '0'}\n",
      "Attempt: 1\n",
      "Epoch 1/3\n",
      "1304/1304 [==============================] - 57s - loss: 1.7731 - acc: 0.9741    \n",
      "Epoch 2/3\n",
      "1304/1304 [==============================] - 40s - loss: 0.1856 - acc: 0.9762    \n",
      "Epoch 3/3\n",
      "1304/1304 [==============================] - 41s - loss: 0.1768 - acc: 0.9758    \n",
      "2208/2319 [===========================>..] - ETA: 0s{'auc': 0.99587940786121498, 'accuracy': 0.94954721862871927, 'f1': 0.94099848714069589, 'precision': 0.99149840595111582, 'recall': 0.89539347408829173, 'split': '5', 'attempt': '1'}\n",
      "Attempt: 2\n",
      "Epoch 1/3\n",
      "1304/1304 [==============================] - 57s - loss: 1.7707 - acc: 0.9734    \n",
      "Epoch 2/3\n",
      "1304/1304 [==============================] - 40s - loss: 0.1853 - acc: 0.9773    \n",
      "Epoch 3/3\n",
      "1304/1304 [==============================] - 40s - loss: 0.1836 - acc: 0.9763    \n",
      "2272/2319 [============================>.] - ETA: 0s{'auc': 0.99514517139949832, 'accuracy': 0.97326433807675727, 'f1': 0.96999031945788972, 'precision': 0.978515625, 'recall': 0.96161228406909793, 'split': '5', 'attempt': '2'}\n",
      "Attempt: 3\n",
      "Epoch 1/3\n",
      "1304/1304 [==============================] - 59s - loss: 1.7677 - acc: 0.9744    \n",
      "Epoch 2/3\n",
      "1304/1304 [==============================] - 41s - loss: 0.1761 - acc: 0.9777    \n",
      "Epoch 3/3\n",
      "1304/1304 [==============================] - 38s - loss: 0.1766 - acc: 0.9764    \n",
      "2240/2319 [===========================>..] - ETA: 0s{'auc': 0.99676094252814829, 'accuracy': 0.97455799913755925, 'f1': 0.97197149643705461, 'precision': 0.96237064910630288, 'recall': 0.98176583493282155, 'split': '5', 'attempt': '3'}\n",
      "Attempt: 4\n",
      "Epoch 1/3\n",
      "1304/1304 [==============================] - 59s - loss: 1.7670 - acc: 0.9732      E -\n",
      "Epoch 2/3\n",
      "1304/1304 [==============================] - 41s - loss: 0.1813 - acc: 0.9776    - ETA: 1s - loss: 0.\n",
      "Epoch 3/3\n",
      "1304/1304 [==============================] - 41s - loss: 0.1736 - acc: 0.9786    \n",
      "2304/2319 [============================>.] - ETA: 0s{'auc': 0.99736065664938667, 'accuracy': 0.80681328158689092, 'f1': 0.82292490118577077, 'precision': 0.69959677419354838, 'recall': 0.99904030710172742, 'split': '5', 'attempt': '4'}\n",
      "\n",
      "Avg pred metrics: {'auc': 0.99785816385271975, 'accuracy': 0.98016386373436826, 'f1': 0.97794822627037403, 'precision': 0.97701149425287359, 'recall': 0.97888675623800381, 'split': '5', 'attempt': 'avg'}\n",
      "\n"
     ]
    },
    {
     "name": "stderr",
     "output_type": "stream",
     "text": [
      "/home/ubuntu/src/anaconda3/envs/off-smpl/lib/python3.6/site-packages/keras/preprocessing/image.py:653: UserWarning: Expected input to be images (as Numpy array) following the data format convention \"channels_last\" (channels on axis 3), i.e. expected either 1, 3 or 4 channels on axis 3. However, it was passed an array with shape (20888, 56, 56, 1) (1 channels).\n",
      "  ' (' + str(x.shape[self.channel_axis]) + ' channels).')\n"
     ]
    },
    {
     "name": "stdout",
     "output_type": "stream",
     "text": [
      "Split: 6\n",
      "Attempt: 0\n",
      "Epoch 1/3\n",
      "1304/1304 [==============================] - 60s - loss: 1.7664 - acc: 0.9757    \n",
      "Epoch 2/3\n",
      "1304/1304 [==============================] - 38s - loss: 0.1853 - acc: 0.9778    \n",
      "Epoch 3/3\n",
      "1304/1304 [==============================] - 42s - loss: 0.1738 - acc: 0.9793    - ETA: - ETA: 0s - loss: 0.1738 - acc: 0\n",
      "2318/2318 [==============================] - 13s    \n",
      "{'auc': 0.97426646981319487, 'accuracy': 0.75711820534943919, 'f1': 0.73850441244774723, 'precision': 0.58801775147928992, 'recall': 0.99250936329588013, 'split': '6', 'attempt': '0'}\n",
      "Attempt: 1\n",
      "Epoch 1/3\n",
      "1304/1304 [==============================] - 61s - loss: 1.7689 - acc: 0.9757    \n",
      "Epoch 2/3\n",
      "1304/1304 [==============================] - 44s - loss: 0.1851 - acc: 0.9792    \n",
      "Epoch 3/3\n",
      "1304/1304 [==============================] - 42s - loss: 0.1721 - acc: 0.9797    \n",
      "2240/2318 [===========================>..] - ETA: 0s{'auc': 0.9947665533442458, 'accuracy': 0.96980155306298532, 'f1': 0.95726495726495731, 'precision': 0.93667861409796893, 'recall': 0.97877652933832704, 'split': '6', 'attempt': '1'}\n",
      "Attempt: 2\n",
      "Epoch 1/3\n",
      "1304/1304 [==============================] - 61s - loss: 1.7688 - acc: 0.9748    \n",
      "Epoch 2/3\n",
      "1304/1304 [==============================] - 45s - loss: 0.1781 - acc: 0.9796    - ETA: 4s - loss - ETA: 0s - loss: 0.1782 - ac\n",
      "Epoch 3/3\n",
      "1304/1304 [==============================] - 43s - loss: 0.1757 - acc: 0.9784    - ETA:  - \n",
      "2240/2318 [===========================>..] - ETA: 0s{'auc': 0.97253885839799781, 'accuracy': 0.78343399482312337, 'f1': 0.55017921146953408, 'precision': 0.97460317460317458, 'recall': 0.38327091136079899, 'split': '6', 'attempt': '2'}\n",
      "Attempt: 3\n",
      "Epoch 1/3\n",
      "1304/1304 [==============================] - 61s - loss: 1.7760 - acc: 0.9749    \n",
      "Epoch 2/3\n",
      "1304/1304 [==============================] - 41s - loss: 0.1761 - acc: 0.9801    - ET\n",
      "Epoch 3/3\n",
      "1304/1304 [==============================] - 41s - loss: 0.1753 - acc: 0.9801    \n",
      "2304/2318 [============================>.] - ETA: 0s{'auc': 0.993078855780966, 'accuracy': 0.94521138912855907, 'f1': 0.92629135229251303, 'precision': 0.86550976138828628, 'recall': 0.99625468164794007, 'split': '6', 'attempt': '3'}\n",
      "Attempt: 4\n",
      "Epoch 1/3\n",
      "1304/1304 [==============================] - 62s - loss: 1.7826 - acc: 0.9741    \n",
      "Epoch 2/3\n",
      "1304/1304 [==============================] - 45s - loss: 0.1756 - acc: 0.9795    \n",
      "Epoch 3/3\n",
      "1304/1304 [==============================] - 39s - loss: 0.1835 - acc: 0.9781    \n",
      "2272/2318 [============================>.] - ETA: 0s{'auc': 0.99469927587219997, 'accuracy': 0.95038826574633306, 'f1': 0.93263034563561809, 'precision': 0.87858719646799122, 'recall': 0.99375780274656678, 'split': '6', 'attempt': '4'}\n",
      "\n",
      "Avg pred metrics: {'auc': 0.99545064384746484, 'accuracy': 0.9654874892148404, 'f1': 0.95192307692307698, 'precision': 0.91772885283893391, 'recall': 0.9887640449438202, 'split': '6', 'attempt': 'avg'}\n",
      "\n",
      "Split: 7\n",
      "Attempt: 0\n",
      "Epoch 1/3\n",
      "1304/1304 [==============================] - 59s - loss: 1.7686 - acc: 0.9753    \n",
      "Epoch 2/3\n",
      "1304/1304 [==============================] - 41s - loss: 0.1888 - acc: 0.9786    \n",
      "Epoch 3/3\n",
      "1304/1304 [==============================] - 41s - loss: 0.1746 - acc: 0.9788    \n",
      "2321/2321 [==============================] - 13s    \n",
      "{'auc': 0.9951277447866318, 'accuracy': 0.87074536837570016, 'f1': 0.81250000000000011, 'precision': 0.68421052631578949, 'recall': 1.0, 'split': '7', 'attempt': '0'}\n",
      "Attempt: 1\n",
      "Epoch 1/3\n",
      "1304/1304 [==============================] - 60s - loss: 1.7668 - acc: 0.9748    \n",
      "Epoch 2/3\n",
      "1304/1304 [==============================] - 42s - loss: 0.1798 - acc: 0.9776    - ETA: 1s -\n",
      "Epoch 3/3\n",
      "1304/1304 [==============================] - 43s - loss: 0.1773 - acc: 0.9779    \n",
      "2240/2321 [===========================>..] - ETA: 0s{'auc': 0.96001381024720334, 'accuracy': 0.86342093925032315, 'f1': 0.80224578914535249, 'precision': 0.67471143756558238, 'recall': 0.98923076923076925, 'split': '7', 'attempt': '1'}\n",
      "Attempt: 2\n",
      "Epoch 1/3\n",
      "1304/1304 [==============================] - 62s - loss: 1.7714 - acc: 0.9741    \n",
      "Epoch 2/3\n",
      "1304/1304 [==============================] - 43s - loss: 0.1761 - acc: 0.9798    \n",
      "Epoch 3/3\n",
      "1304/1304 [==============================] - 40s - loss: 0.1960 - acc: 0.9780    \n",
      "2321/2321 [==============================] - 13s    \n",
      "{'auc': 0.97529599963172675, 'accuracy': 0.87289961223610513, 'f1': 0.81028938906752412, 'precision': 0.69613259668508287, 'recall': 0.96923076923076923, 'split': '7', 'attempt': '2'}\n",
      "Attempt: 3\n",
      "Epoch 1/3\n",
      "1304/1304 [==============================] - 61s - loss: 1.7688 - acc: 0.9761    - - ETA: 1s - loss: 1\n",
      "Epoch 2/3\n",
      "1304/1304 [==============================] - 42s - loss: 0.1688 - acc: 0.9790    \n",
      "Epoch 3/3\n",
      "1304/1304 [==============================] - 41s - loss: 0.1717 - acc: 0.9783    \n",
      "2272/2321 [============================>.] - ETA: 0s{'auc': 0.99627123325507527, 'accuracy': 0.95217578629900901, 'f1': 0.90711297071129704, 'precision': 0.99449541284403675, 'recall': 0.83384615384615379, 'split': '7', 'attempt': '3'}\n",
      "Attempt: 4\n",
      "Epoch 1/3\n",
      "1304/1304 [==============================] - 59s - loss: 1.7584 - acc: 0.9774    \n",
      "Epoch 2/3\n",
      "1304/1304 [==============================] - 38s - loss: 0.1852 - acc: 0.9766    \n",
      "Epoch 3/3\n",
      "1304/1304 [==============================] - 41s - loss: 0.1765 - acc: 0.9772    \n",
      "2240/2321 [===========================>..] - ETA: 0s{'auc': 0.99469870644017866, 'accuracy': 0.95174493752692801, 'f1': 0.91919191919191912, 'precision': 0.86548913043478259, 'recall': 0.97999999999999998, 'split': '7', 'attempt': '4'}\n",
      "\n",
      "Avg pred metrics: {'auc': 0.99667080974082767, 'accuracy': 0.95605342524773806, 'f1': 0.92640692640692635, 'precision': 0.87228260869565222, 'recall': 0.98769230769230765, 'split': '7', 'attempt': 'avg'}\n",
      "\n",
      "Split: 8\n",
      "Attempt: 0\n",
      "Epoch 1/3\n",
      "1304/1304 [==============================] - 63s - loss: 1.7612 - acc: 0.9765    \n",
      "Epoch 2/3\n",
      "1304/1304 [==============================] - 46s - loss: 0.1770 - acc: 0.9798    \n",
      "Epoch 3/3\n",
      "1304/1304 [==============================] - 41s - loss: 0.1765 - acc: 0.9794    \n",
      "2272/2321 [============================>.] - ETA: 0s{'auc': 0.96561297169811322, 'accuracy': 0.90779836277466608, 'f1': 0.84218289085545717, 'precision': 0.7811217510259918, 'recall': 0.91359999999999997, 'split': '8', 'attempt': '0'}\n",
      "Attempt: 1\n",
      "Epoch 1/3\n",
      "1304/1304 [==============================] - 62s - loss: 1.7626 - acc: 0.9772    \n",
      "Epoch 2/3\n",
      "1304/1304 [==============================] - 45s - loss: 0.1750 - acc: 0.9810    \n",
      "Epoch 3/3\n",
      "1304/1304 [==============================] - 44s - loss: 0.1640 - acc: 0.9812     - ETA: 9s - ET - ETA: 5s - loss: 0.1649 - acc: 0\n",
      "2240/2321 [===========================>..] - ETA: 0s{'auc': 0.96587547169811327, 'accuracy': 0.90952175786299005, 'f1': 0.84018264840182633, 'precision': 0.80116110304789545, 'recall': 0.88319999999999999, 'split': '8', 'attempt': '1'}\n",
      "Attempt: 2\n",
      "Epoch 1/3\n",
      "1304/1304 [==============================] - 60s - loss: 1.7859 - acc: 0.9767    \n",
      "Epoch 2/3\n",
      "1304/1304 [==============================] - 42s - loss: 0.1752 - acc: 0.9802    \n",
      "Epoch 3/3\n",
      "1304/1304 [==============================] - 44s - loss: 0.1826 - acc: 0.9800    \n",
      "2304/2321 [============================>.] - ETA: 0s{'auc': 0.82163419811320759, 'accuracy': 0.66566135286514438, 'f1': 0.58723404255319156, 'precision': 0.43984063745019919, 'recall': 0.88319999999999999, 'split': '8', 'attempt': '2'}\n",
      "Attempt: 3\n",
      "Epoch 1/3\n",
      "1304/1304 [==============================] - 64s - loss: 1.7729 - acc: 0.9760    \n",
      "Epoch 2/3\n",
      "1304/1304 [==============================] - 46s - loss: 0.1734 - acc: 0.9805    \n",
      "Epoch 3/3\n",
      "1304/1304 [==============================] - 43s - loss: 0.1728 - acc: 0.9801    \n",
      "2240/2321 [===========================>..] - ETA: 0s{'auc': 0.98971132075471702, 'accuracy': 0.93623438173201201, 'f1': 0.87108013937282225, 'precision': 0.95602294455066916, 'recall': 0.80000000000000004, 'split': '8', 'attempt': '3'}\n",
      "Attempt: 4\n",
      "Epoch 1/3\n",
      "1304/1304 [==============================] - 65s - loss: 1.7849 - acc: 0.9732    \n",
      "Epoch 2/3\n",
      "1304/1304 [==============================] - 47s - loss: 0.1777 - acc: 0.9788    \n",
      "Epoch 3/3\n",
      "1304/1304 [==============================] - 47s - loss: 0.1741 - acc: 0.9794    \n",
      "2304/2321 [============================>.] - ETA: 0s{'auc': 0.91628207547169815, 'accuracy': 0.81473502800517017, 'f1': 0.70547945205479445, 'precision': 0.61676646706586824, 'recall': 0.82399999999999995, 'split': '8', 'attempt': '4'}\n",
      "\n",
      "Avg pred metrics: {'auc': 0.95575943396226415, 'accuracy': 0.91900043084877203, 'f1': 0.85243328100470961, 'precision': 0.83667180277349773, 'recall': 0.86880000000000002, 'split': '8', 'attempt': 'avg'}\n",
      "\n"
     ]
    },
    {
     "name": "stderr",
     "output_type": "stream",
     "text": [
      "/home/ubuntu/src/anaconda3/envs/off-smpl/lib/python3.6/site-packages/keras/preprocessing/image.py:653: UserWarning: Expected input to be images (as Numpy array) following the data format convention \"channels_last\" (channels on axis 3), i.e. expected either 1, 3 or 4 channels on axis 3. However, it was passed an array with shape (20886, 56, 56, 1) (1 channels).\n",
      "  ' (' + str(x.shape[self.channel_axis]) + ' channels).')\n"
     ]
    },
    {
     "name": "stdout",
     "output_type": "stream",
     "text": [
      "Split: 9\n",
      "Attempt: 0\n",
      "Epoch 1/3\n",
      "1304/1304 [==============================] - 60s - loss: 1.7771 - acc: 0.9732    \n",
      "Epoch 2/3\n",
      "1304/1304 [==============================] - 44s - loss: 0.1941 - acc: 0.9763    \n",
      "Epoch 3/3\n",
      "1304/1304 [==============================] - 44s - loss: 0.1777 - acc: 0.9777    \n",
      "2240/2320 [===========================>..] - ETA: 0s{'auc': 0.98692259404884797, 'accuracy': 0.82456896551724135, 'f1': 0.77698630136986302, 'precision': 0.63530465949820791, 'recall': 1.0, 'split': '9', 'attempt': '0'}\n",
      "Attempt: 1\n",
      "Epoch 1/3\n",
      "1304/1304 [==============================] - 66s - loss: 1.7833 - acc: 0.9738    \n",
      "Epoch 2/3\n",
      "1304/1304 [==============================] - 43s - loss: 0.1924 - acc: 0.9761    \n",
      "Epoch 3/3\n",
      "1304/1304 [==============================] - 41s - loss: 0.1829 - acc: 0.9764    \n",
      "2208/2320 [===========================>..] - ETA: 0s{'auc': 0.99607073723580575, 'accuracy': 0.92500000000000004, 'f1': 0.89056603773584908, 'precision': 0.80363223609534618, 'recall': 0.99858956276445698, 'split': '9', 'attempt': '1'}\n",
      "Attempt: 2\n",
      "Epoch 1/3\n",
      "1304/1304 [==============================] - 62s - loss: 1.7773 - acc: 0.9747    \n",
      "Epoch 2/3\n",
      "1304/1304 [==============================] - 42s - loss: 0.1896 - acc: 0.9769    - ETA: 1\n",
      "Epoch 3/3\n",
      "1304/1304 [==============================] - 42s - loss: 0.1823 - acc: 0.9780    - ETA: 1s - loss:\n",
      "2240/2320 [===========================>..] - ETA: 0s{'auc': 0.99808789886876115, 'accuracy': 0.93017241379310345, 'f1': 0.89746835443037976, 'precision': 0.81400688863375426, 'recall': 1.0, 'split': '9', 'attempt': '2'}\n",
      "Attempt: 3\n",
      "Epoch 1/3\n",
      "1304/1304 [==============================] - 57s - loss: 1.7766 - acc: 0.9737    - ETA: 3s - loss: 1.8873 - - ETA: 2s - loss: 1.8541 - acc: 0.9 - ETA: 2s \n",
      "Epoch 2/3\n",
      "1304/1304 [==============================] - 42s - loss: 0.1840 - acc: 0.9767    \n",
      "Epoch 3/3\n",
      "1304/1304 [==============================] - 42s - loss: 0.1813 - acc: 0.9773    \n",
      "2304/2320 [============================>.] - ETA: 0s{'auc': 0.99017180894047363, 'accuracy': 0.91249999999999998, 'f1': 0.87430340557275543, 'precision': 0.77924944812362029, 'recall': 0.99576868829337095, 'split': '9', 'attempt': '3'}\n",
      "Attempt: 4\n",
      "Epoch 1/3\n",
      "1304/1304 [==============================] - 63s - loss: 1.7873 - acc: 0.9711    \n",
      "Epoch 2/3\n",
      "1304/1304 [==============================] - 39s - loss: 0.1944 - acc: 0.9766    \n",
      "Epoch 3/3\n",
      "1304/1304 [==============================] - 39s - loss: 0.1819 - acc: 0.9773    \n",
      "2208/2320 [===========================>..] - ETA: 0s{'auc': 0.99719926212507626, 'accuracy': 0.97413793103448276, 'f1': 0.95896032831737343, 'precision': 0.93094289508632133, 'recall': 0.98871650211565587, 'split': '9', 'attempt': '4'}\n",
      "\n",
      "Avg pred metrics: {'auc': 0.99962178219382081, 'accuracy': 0.94051724137931036, 'f1': 0.9113110539845759, 'precision': 0.83707201889020066, 'recall': 1.0, 'split': '9', 'attempt': 'avg'}\n",
      "\n"
     ]
    },
    {
     "data": {
      "text/html": [
       "<div>\n",
       "<style>\n",
       "    .dataframe thead tr:only-child th {\n",
       "        text-align: right;\n",
       "    }\n",
       "\n",
       "    .dataframe thead th {\n",
       "        text-align: left;\n",
       "    }\n",
       "\n",
       "    .dataframe tbody tr th {\n",
       "        vertical-align: top;\n",
       "    }\n",
       "</style>\n",
       "<table border=\"1\" class=\"dataframe\">\n",
       "  <thead>\n",
       "    <tr style=\"text-align: right;\">\n",
       "      <th></th>\n",
       "      <th>accuracy</th>\n",
       "      <th>attempt</th>\n",
       "      <th>auc</th>\n",
       "      <th>f1</th>\n",
       "      <th>precision</th>\n",
       "      <th>recall</th>\n",
       "      <th>split</th>\n",
       "    </tr>\n",
       "  </thead>\n",
       "  <tbody>\n",
       "    <tr>\n",
       "      <th>0</th>\n",
       "      <td>0.988357</td>\n",
       "      <td>0</td>\n",
       "      <td>0.997620</td>\n",
       "      <td>0.986329</td>\n",
       "      <td>0.987830</td>\n",
       "      <td>0.984833</td>\n",
       "      <td>0</td>\n",
       "    </tr>\n",
       "    <tr>\n",
       "      <th>1</th>\n",
       "      <td>0.956447</td>\n",
       "      <td>1</td>\n",
       "      <td>0.992879</td>\n",
       "      <td>0.950947</td>\n",
       "      <td>0.914953</td>\n",
       "      <td>0.989889</td>\n",
       "      <td>0</td>\n",
       "    </tr>\n",
       "    <tr>\n",
       "      <th>2</th>\n",
       "      <td>0.970246</td>\n",
       "      <td>2</td>\n",
       "      <td>0.996335</td>\n",
       "      <td>0.965620</td>\n",
       "      <td>0.951866</td>\n",
       "      <td>0.979778</td>\n",
       "      <td>0</td>\n",
       "    </tr>\n",
       "    <tr>\n",
       "      <th>3</th>\n",
       "      <td>0.980595</td>\n",
       "      <td>3</td>\n",
       "      <td>0.998181</td>\n",
       "      <td>0.977169</td>\n",
       "      <td>0.980652</td>\n",
       "      <td>0.973711</td>\n",
       "      <td>0</td>\n",
       "    </tr>\n",
       "    <tr>\n",
       "      <th>4</th>\n",
       "      <td>0.980595</td>\n",
       "      <td>4</td>\n",
       "      <td>0.999112</td>\n",
       "      <td>0.977421</td>\n",
       "      <td>0.970120</td>\n",
       "      <td>0.984833</td>\n",
       "      <td>0</td>\n",
       "    </tr>\n",
       "    <tr>\n",
       "      <th>5</th>\n",
       "      <td>0.988357</td>\n",
       "      <td>avg</td>\n",
       "      <td>0.999501</td>\n",
       "      <td>0.986398</td>\n",
       "      <td>0.982932</td>\n",
       "      <td>0.989889</td>\n",
       "      <td>0</td>\n",
       "    </tr>\n",
       "    <tr>\n",
       "      <th>6</th>\n",
       "      <td>0.967227</td>\n",
       "      <td>0</td>\n",
       "      <td>0.996552</td>\n",
       "      <td>0.936348</td>\n",
       "      <td>0.897271</td>\n",
       "      <td>0.978984</td>\n",
       "      <td>1</td>\n",
       "    </tr>\n",
       "    <tr>\n",
       "      <th>7</th>\n",
       "      <td>0.921518</td>\n",
       "      <td>1</td>\n",
       "      <td>0.998550</td>\n",
       "      <td>0.862538</td>\n",
       "      <td>0.758300</td>\n",
       "      <td>1.000000</td>\n",
       "      <td>1</td>\n",
       "    </tr>\n",
       "    <tr>\n",
       "      <th>8</th>\n",
       "      <td>0.925830</td>\n",
       "      <td>2</td>\n",
       "      <td>0.990175</td>\n",
       "      <td>0.867692</td>\n",
       "      <td>0.773663</td>\n",
       "      <td>0.987741</td>\n",
       "      <td>1</td>\n",
       "    </tr>\n",
       "    <tr>\n",
       "      <th>9</th>\n",
       "      <td>0.954291</td>\n",
       "      <td>3</td>\n",
       "      <td>0.998116</td>\n",
       "      <td>0.915064</td>\n",
       "      <td>0.843427</td>\n",
       "      <td>1.000000</td>\n",
       "      <td>1</td>\n",
       "    </tr>\n",
       "    <tr>\n",
       "      <th>10</th>\n",
       "      <td>0.989651</td>\n",
       "      <td>4</td>\n",
       "      <td>0.999448</td>\n",
       "      <td>0.979310</td>\n",
       "      <td>0.964346</td>\n",
       "      <td>0.994746</td>\n",
       "      <td>1</td>\n",
       "    </tr>\n",
       "    <tr>\n",
       "      <th>11</th>\n",
       "      <td>0.977145</td>\n",
       "      <td>avg</td>\n",
       "      <td>0.999482</td>\n",
       "      <td>0.955649</td>\n",
       "      <td>0.915064</td>\n",
       "      <td>1.000000</td>\n",
       "      <td>1</td>\n",
       "    </tr>\n",
       "    <tr>\n",
       "      <th>12</th>\n",
       "      <td>0.828744</td>\n",
       "      <td>0</td>\n",
       "      <td>0.997138</td>\n",
       "      <td>0.780595</td>\n",
       "      <td>0.640145</td>\n",
       "      <td>1.000000</td>\n",
       "      <td>2</td>\n",
       "    </tr>\n",
       "    <tr>\n",
       "      <th>13</th>\n",
       "      <td>0.983649</td>\n",
       "      <td>1</td>\n",
       "      <td>0.998735</td>\n",
       "      <td>0.973721</td>\n",
       "      <td>0.953930</td>\n",
       "      <td>0.994350</td>\n",
       "      <td>2</td>\n",
       "    </tr>\n",
       "    <tr>\n",
       "      <th>14</th>\n",
       "      <td>0.982358</td>\n",
       "      <td>2</td>\n",
       "      <td>0.998400</td>\n",
       "      <td>0.970440</td>\n",
       "      <td>0.991163</td>\n",
       "      <td>0.950565</td>\n",
       "      <td>2</td>\n",
       "    </tr>\n",
       "    <tr>\n",
       "      <th>15</th>\n",
       "      <td>0.981497</td>\n",
       "      <td>3</td>\n",
       "      <td>0.998301</td>\n",
       "      <td>0.970324</td>\n",
       "      <td>0.948718</td>\n",
       "      <td>0.992938</td>\n",
       "      <td>2</td>\n",
       "    </tr>\n",
       "    <tr>\n",
       "      <th>16</th>\n",
       "      <td>0.940620</td>\n",
       "      <td>4</td>\n",
       "      <td>0.988896</td>\n",
       "      <td>0.908367</td>\n",
       "      <td>0.857143</td>\n",
       "      <td>0.966102</td>\n",
       "      <td>2</td>\n",
       "    </tr>\n",
       "    <tr>\n",
       "      <th>17</th>\n",
       "      <td>0.986231</td>\n",
       "      <td>avg</td>\n",
       "      <td>0.999786</td>\n",
       "      <td>0.977839</td>\n",
       "      <td>0.959239</td>\n",
       "      <td>0.997175</td>\n",
       "      <td>2</td>\n",
       "    </tr>\n",
       "    <tr>\n",
       "      <th>18</th>\n",
       "      <td>0.976734</td>\n",
       "      <td>0</td>\n",
       "      <td>0.998725</td>\n",
       "      <td>0.963612</td>\n",
       "      <td>0.934641</td>\n",
       "      <td>0.994437</td>\n",
       "      <td>3</td>\n",
       "    </tr>\n",
       "    <tr>\n",
       "      <th>19</th>\n",
       "      <td>0.964240</td>\n",
       "      <td>1</td>\n",
       "      <td>0.997721</td>\n",
       "      <td>0.944407</td>\n",
       "      <td>0.910853</td>\n",
       "      <td>0.980529</td>\n",
       "      <td>3</td>\n",
       "    </tr>\n",
       "    <tr>\n",
       "      <th>20</th>\n",
       "      <td>0.990521</td>\n",
       "      <td>2</td>\n",
       "      <td>0.999363</td>\n",
       "      <td>0.984786</td>\n",
       "      <td>0.979367</td>\n",
       "      <td>0.990264</td>\n",
       "      <td>3</td>\n",
       "    </tr>\n",
       "    <tr>\n",
       "      <th>21</th>\n",
       "      <td>0.805256</td>\n",
       "      <td>3</td>\n",
       "      <td>0.994410</td>\n",
       "      <td>0.760339</td>\n",
       "      <td>0.614396</td>\n",
       "      <td>0.997218</td>\n",
       "      <td>3</td>\n",
       "    </tr>\n",
       "    <tr>\n",
       "      <th>22</th>\n",
       "      <td>0.843602</td>\n",
       "      <td>4</td>\n",
       "      <td>0.991707</td>\n",
       "      <td>0.796639</td>\n",
       "      <td>0.666979</td>\n",
       "      <td>0.988873</td>\n",
       "      <td>3</td>\n",
       "    </tr>\n",
       "    <tr>\n",
       "      <th>23</th>\n",
       "      <td>0.967686</td>\n",
       "      <td>avg</td>\n",
       "      <td>0.999226</td>\n",
       "      <td>0.950232</td>\n",
       "      <td>0.908629</td>\n",
       "      <td>0.995828</td>\n",
       "      <td>3</td>\n",
       "    </tr>\n",
       "    <tr>\n",
       "      <th>24</th>\n",
       "      <td>0.892427</td>\n",
       "      <td>0</td>\n",
       "      <td>0.984003</td>\n",
       "      <td>0.793729</td>\n",
       "      <td>0.991753</td>\n",
       "      <td>0.661623</td>\n",
       "      <td>4</td>\n",
       "    </tr>\n",
       "    <tr>\n",
       "      <th>25</th>\n",
       "      <td>0.938468</td>\n",
       "      <td>1</td>\n",
       "      <td>0.974079</td>\n",
       "      <td>0.895544</td>\n",
       "      <td>0.954829</td>\n",
       "      <td>0.843191</td>\n",
       "      <td>4</td>\n",
       "    </tr>\n",
       "    <tr>\n",
       "      <th>26</th>\n",
       "      <td>0.948365</td>\n",
       "      <td>2</td>\n",
       "      <td>0.995143</td>\n",
       "      <td>0.910714</td>\n",
       "      <td>0.991896</td>\n",
       "      <td>0.841816</td>\n",
       "      <td>4</td>\n",
       "    </tr>\n",
       "    <tr>\n",
       "      <th>27</th>\n",
       "      <td>0.978485</td>\n",
       "      <td>3</td>\n",
       "      <td>0.994188</td>\n",
       "      <td>0.965084</td>\n",
       "      <td>0.980142</td>\n",
       "      <td>0.950481</td>\n",
       "      <td>4</td>\n",
       "    </tr>\n",
       "    <tr>\n",
       "      <th>28</th>\n",
       "      <td>0.900172</td>\n",
       "      <td>4</td>\n",
       "      <td>0.958357</td>\n",
       "      <td>0.827637</td>\n",
       "      <td>0.899838</td>\n",
       "      <td>0.766162</td>\n",
       "      <td>4</td>\n",
       "    </tr>\n",
       "    <tr>\n",
       "      <th>29</th>\n",
       "      <td>0.967728</td>\n",
       "      <td>avg</td>\n",
       "      <td>0.993399</td>\n",
       "      <td>0.946082</td>\n",
       "      <td>0.990964</td>\n",
       "      <td>0.905089</td>\n",
       "      <td>4</td>\n",
       "    </tr>\n",
       "    <tr>\n",
       "      <th>30</th>\n",
       "      <td>0.975420</td>\n",
       "      <td>0</td>\n",
       "      <td>0.996169</td>\n",
       "      <td>0.972844</td>\n",
       "      <td>0.965941</td>\n",
       "      <td>0.979846</td>\n",
       "      <td>5</td>\n",
       "    </tr>\n",
       "    <tr>\n",
       "      <th>31</th>\n",
       "      <td>0.949547</td>\n",
       "      <td>1</td>\n",
       "      <td>0.995879</td>\n",
       "      <td>0.940998</td>\n",
       "      <td>0.991498</td>\n",
       "      <td>0.895393</td>\n",
       "      <td>5</td>\n",
       "    </tr>\n",
       "    <tr>\n",
       "      <th>32</th>\n",
       "      <td>0.973264</td>\n",
       "      <td>2</td>\n",
       "      <td>0.995145</td>\n",
       "      <td>0.969990</td>\n",
       "      <td>0.978516</td>\n",
       "      <td>0.961612</td>\n",
       "      <td>5</td>\n",
       "    </tr>\n",
       "    <tr>\n",
       "      <th>33</th>\n",
       "      <td>0.974558</td>\n",
       "      <td>3</td>\n",
       "      <td>0.996761</td>\n",
       "      <td>0.971971</td>\n",
       "      <td>0.962371</td>\n",
       "      <td>0.981766</td>\n",
       "      <td>5</td>\n",
       "    </tr>\n",
       "    <tr>\n",
       "      <th>34</th>\n",
       "      <td>0.806813</td>\n",
       "      <td>4</td>\n",
       "      <td>0.997361</td>\n",
       "      <td>0.822925</td>\n",
       "      <td>0.699597</td>\n",
       "      <td>0.999040</td>\n",
       "      <td>5</td>\n",
       "    </tr>\n",
       "    <tr>\n",
       "      <th>35</th>\n",
       "      <td>0.980164</td>\n",
       "      <td>avg</td>\n",
       "      <td>0.997858</td>\n",
       "      <td>0.977948</td>\n",
       "      <td>0.977011</td>\n",
       "      <td>0.978887</td>\n",
       "      <td>5</td>\n",
       "    </tr>\n",
       "    <tr>\n",
       "      <th>36</th>\n",
       "      <td>0.757118</td>\n",
       "      <td>0</td>\n",
       "      <td>0.974266</td>\n",
       "      <td>0.738504</td>\n",
       "      <td>0.588018</td>\n",
       "      <td>0.992509</td>\n",
       "      <td>6</td>\n",
       "    </tr>\n",
       "    <tr>\n",
       "      <th>37</th>\n",
       "      <td>0.969802</td>\n",
       "      <td>1</td>\n",
       "      <td>0.994767</td>\n",
       "      <td>0.957265</td>\n",
       "      <td>0.936679</td>\n",
       "      <td>0.978777</td>\n",
       "      <td>6</td>\n",
       "    </tr>\n",
       "    <tr>\n",
       "      <th>38</th>\n",
       "      <td>0.783434</td>\n",
       "      <td>2</td>\n",
       "      <td>0.972539</td>\n",
       "      <td>0.550179</td>\n",
       "      <td>0.974603</td>\n",
       "      <td>0.383271</td>\n",
       "      <td>6</td>\n",
       "    </tr>\n",
       "    <tr>\n",
       "      <th>39</th>\n",
       "      <td>0.945211</td>\n",
       "      <td>3</td>\n",
       "      <td>0.993079</td>\n",
       "      <td>0.926291</td>\n",
       "      <td>0.865510</td>\n",
       "      <td>0.996255</td>\n",
       "      <td>6</td>\n",
       "    </tr>\n",
       "    <tr>\n",
       "      <th>40</th>\n",
       "      <td>0.950388</td>\n",
       "      <td>4</td>\n",
       "      <td>0.994699</td>\n",
       "      <td>0.932630</td>\n",
       "      <td>0.878587</td>\n",
       "      <td>0.993758</td>\n",
       "      <td>6</td>\n",
       "    </tr>\n",
       "    <tr>\n",
       "      <th>41</th>\n",
       "      <td>0.965487</td>\n",
       "      <td>avg</td>\n",
       "      <td>0.995451</td>\n",
       "      <td>0.951923</td>\n",
       "      <td>0.917729</td>\n",
       "      <td>0.988764</td>\n",
       "      <td>6</td>\n",
       "    </tr>\n",
       "    <tr>\n",
       "      <th>42</th>\n",
       "      <td>0.870745</td>\n",
       "      <td>0</td>\n",
       "      <td>0.995128</td>\n",
       "      <td>0.812500</td>\n",
       "      <td>0.684211</td>\n",
       "      <td>1.000000</td>\n",
       "      <td>7</td>\n",
       "    </tr>\n",
       "    <tr>\n",
       "      <th>43</th>\n",
       "      <td>0.863421</td>\n",
       "      <td>1</td>\n",
       "      <td>0.960014</td>\n",
       "      <td>0.802246</td>\n",
       "      <td>0.674711</td>\n",
       "      <td>0.989231</td>\n",
       "      <td>7</td>\n",
       "    </tr>\n",
       "    <tr>\n",
       "      <th>44</th>\n",
       "      <td>0.872900</td>\n",
       "      <td>2</td>\n",
       "      <td>0.975296</td>\n",
       "      <td>0.810289</td>\n",
       "      <td>0.696133</td>\n",
       "      <td>0.969231</td>\n",
       "      <td>7</td>\n",
       "    </tr>\n",
       "    <tr>\n",
       "      <th>45</th>\n",
       "      <td>0.952176</td>\n",
       "      <td>3</td>\n",
       "      <td>0.996271</td>\n",
       "      <td>0.907113</td>\n",
       "      <td>0.994495</td>\n",
       "      <td>0.833846</td>\n",
       "      <td>7</td>\n",
       "    </tr>\n",
       "    <tr>\n",
       "      <th>46</th>\n",
       "      <td>0.951745</td>\n",
       "      <td>4</td>\n",
       "      <td>0.994699</td>\n",
       "      <td>0.919192</td>\n",
       "      <td>0.865489</td>\n",
       "      <td>0.980000</td>\n",
       "      <td>7</td>\n",
       "    </tr>\n",
       "    <tr>\n",
       "      <th>47</th>\n",
       "      <td>0.956053</td>\n",
       "      <td>avg</td>\n",
       "      <td>0.996671</td>\n",
       "      <td>0.926407</td>\n",
       "      <td>0.872283</td>\n",
       "      <td>0.987692</td>\n",
       "      <td>7</td>\n",
       "    </tr>\n",
       "    <tr>\n",
       "      <th>48</th>\n",
       "      <td>0.907798</td>\n",
       "      <td>0</td>\n",
       "      <td>0.965613</td>\n",
       "      <td>0.842183</td>\n",
       "      <td>0.781122</td>\n",
       "      <td>0.913600</td>\n",
       "      <td>8</td>\n",
       "    </tr>\n",
       "    <tr>\n",
       "      <th>49</th>\n",
       "      <td>0.909522</td>\n",
       "      <td>1</td>\n",
       "      <td>0.965875</td>\n",
       "      <td>0.840183</td>\n",
       "      <td>0.801161</td>\n",
       "      <td>0.883200</td>\n",
       "      <td>8</td>\n",
       "    </tr>\n",
       "    <tr>\n",
       "      <th>50</th>\n",
       "      <td>0.665661</td>\n",
       "      <td>2</td>\n",
       "      <td>0.821634</td>\n",
       "      <td>0.587234</td>\n",
       "      <td>0.439841</td>\n",
       "      <td>0.883200</td>\n",
       "      <td>8</td>\n",
       "    </tr>\n",
       "    <tr>\n",
       "      <th>51</th>\n",
       "      <td>0.936234</td>\n",
       "      <td>3</td>\n",
       "      <td>0.989711</td>\n",
       "      <td>0.871080</td>\n",
       "      <td>0.956023</td>\n",
       "      <td>0.800000</td>\n",
       "      <td>8</td>\n",
       "    </tr>\n",
       "    <tr>\n",
       "      <th>52</th>\n",
       "      <td>0.814735</td>\n",
       "      <td>4</td>\n",
       "      <td>0.916282</td>\n",
       "      <td>0.705479</td>\n",
       "      <td>0.616766</td>\n",
       "      <td>0.824000</td>\n",
       "      <td>8</td>\n",
       "    </tr>\n",
       "    <tr>\n",
       "      <th>53</th>\n",
       "      <td>0.919000</td>\n",
       "      <td>avg</td>\n",
       "      <td>0.955759</td>\n",
       "      <td>0.852433</td>\n",
       "      <td>0.836672</td>\n",
       "      <td>0.868800</td>\n",
       "      <td>8</td>\n",
       "    </tr>\n",
       "    <tr>\n",
       "      <th>54</th>\n",
       "      <td>0.824569</td>\n",
       "      <td>0</td>\n",
       "      <td>0.986923</td>\n",
       "      <td>0.776986</td>\n",
       "      <td>0.635305</td>\n",
       "      <td>1.000000</td>\n",
       "      <td>9</td>\n",
       "    </tr>\n",
       "    <tr>\n",
       "      <th>55</th>\n",
       "      <td>0.925000</td>\n",
       "      <td>1</td>\n",
       "      <td>0.996071</td>\n",
       "      <td>0.890566</td>\n",
       "      <td>0.803632</td>\n",
       "      <td>0.998590</td>\n",
       "      <td>9</td>\n",
       "    </tr>\n",
       "    <tr>\n",
       "      <th>56</th>\n",
       "      <td>0.930172</td>\n",
       "      <td>2</td>\n",
       "      <td>0.998088</td>\n",
       "      <td>0.897468</td>\n",
       "      <td>0.814007</td>\n",
       "      <td>1.000000</td>\n",
       "      <td>9</td>\n",
       "    </tr>\n",
       "    <tr>\n",
       "      <th>57</th>\n",
       "      <td>0.912500</td>\n",
       "      <td>3</td>\n",
       "      <td>0.990172</td>\n",
       "      <td>0.874303</td>\n",
       "      <td>0.779249</td>\n",
       "      <td>0.995769</td>\n",
       "      <td>9</td>\n",
       "    </tr>\n",
       "    <tr>\n",
       "      <th>58</th>\n",
       "      <td>0.974138</td>\n",
       "      <td>4</td>\n",
       "      <td>0.997199</td>\n",
       "      <td>0.958960</td>\n",
       "      <td>0.930943</td>\n",
       "      <td>0.988717</td>\n",
       "      <td>9</td>\n",
       "    </tr>\n",
       "    <tr>\n",
       "      <th>59</th>\n",
       "      <td>0.940517</td>\n",
       "      <td>avg</td>\n",
       "      <td>0.999622</td>\n",
       "      <td>0.911311</td>\n",
       "      <td>0.837072</td>\n",
       "      <td>1.000000</td>\n",
       "      <td>9</td>\n",
       "    </tr>\n",
       "  </tbody>\n",
       "</table>\n",
       "</div>"
      ],
      "text/plain": [
       "    accuracy attempt       auc        f1  precision    recall split\n",
       "0   0.988357       0  0.997620  0.986329   0.987830  0.984833     0\n",
       "1   0.956447       1  0.992879  0.950947   0.914953  0.989889     0\n",
       "2   0.970246       2  0.996335  0.965620   0.951866  0.979778     0\n",
       "3   0.980595       3  0.998181  0.977169   0.980652  0.973711     0\n",
       "4   0.980595       4  0.999112  0.977421   0.970120  0.984833     0\n",
       "5   0.988357     avg  0.999501  0.986398   0.982932  0.989889     0\n",
       "6   0.967227       0  0.996552  0.936348   0.897271  0.978984     1\n",
       "7   0.921518       1  0.998550  0.862538   0.758300  1.000000     1\n",
       "8   0.925830       2  0.990175  0.867692   0.773663  0.987741     1\n",
       "9   0.954291       3  0.998116  0.915064   0.843427  1.000000     1\n",
       "10  0.989651       4  0.999448  0.979310   0.964346  0.994746     1\n",
       "11  0.977145     avg  0.999482  0.955649   0.915064  1.000000     1\n",
       "12  0.828744       0  0.997138  0.780595   0.640145  1.000000     2\n",
       "13  0.983649       1  0.998735  0.973721   0.953930  0.994350     2\n",
       "14  0.982358       2  0.998400  0.970440   0.991163  0.950565     2\n",
       "15  0.981497       3  0.998301  0.970324   0.948718  0.992938     2\n",
       "16  0.940620       4  0.988896  0.908367   0.857143  0.966102     2\n",
       "17  0.986231     avg  0.999786  0.977839   0.959239  0.997175     2\n",
       "18  0.976734       0  0.998725  0.963612   0.934641  0.994437     3\n",
       "19  0.964240       1  0.997721  0.944407   0.910853  0.980529     3\n",
       "20  0.990521       2  0.999363  0.984786   0.979367  0.990264     3\n",
       "21  0.805256       3  0.994410  0.760339   0.614396  0.997218     3\n",
       "22  0.843602       4  0.991707  0.796639   0.666979  0.988873     3\n",
       "23  0.967686     avg  0.999226  0.950232   0.908629  0.995828     3\n",
       "24  0.892427       0  0.984003  0.793729   0.991753  0.661623     4\n",
       "25  0.938468       1  0.974079  0.895544   0.954829  0.843191     4\n",
       "26  0.948365       2  0.995143  0.910714   0.991896  0.841816     4\n",
       "27  0.978485       3  0.994188  0.965084   0.980142  0.950481     4\n",
       "28  0.900172       4  0.958357  0.827637   0.899838  0.766162     4\n",
       "29  0.967728     avg  0.993399  0.946082   0.990964  0.905089     4\n",
       "30  0.975420       0  0.996169  0.972844   0.965941  0.979846     5\n",
       "31  0.949547       1  0.995879  0.940998   0.991498  0.895393     5\n",
       "32  0.973264       2  0.995145  0.969990   0.978516  0.961612     5\n",
       "33  0.974558       3  0.996761  0.971971   0.962371  0.981766     5\n",
       "34  0.806813       4  0.997361  0.822925   0.699597  0.999040     5\n",
       "35  0.980164     avg  0.997858  0.977948   0.977011  0.978887     5\n",
       "36  0.757118       0  0.974266  0.738504   0.588018  0.992509     6\n",
       "37  0.969802       1  0.994767  0.957265   0.936679  0.978777     6\n",
       "38  0.783434       2  0.972539  0.550179   0.974603  0.383271     6\n",
       "39  0.945211       3  0.993079  0.926291   0.865510  0.996255     6\n",
       "40  0.950388       4  0.994699  0.932630   0.878587  0.993758     6\n",
       "41  0.965487     avg  0.995451  0.951923   0.917729  0.988764     6\n",
       "42  0.870745       0  0.995128  0.812500   0.684211  1.000000     7\n",
       "43  0.863421       1  0.960014  0.802246   0.674711  0.989231     7\n",
       "44  0.872900       2  0.975296  0.810289   0.696133  0.969231     7\n",
       "45  0.952176       3  0.996271  0.907113   0.994495  0.833846     7\n",
       "46  0.951745       4  0.994699  0.919192   0.865489  0.980000     7\n",
       "47  0.956053     avg  0.996671  0.926407   0.872283  0.987692     7\n",
       "48  0.907798       0  0.965613  0.842183   0.781122  0.913600     8\n",
       "49  0.909522       1  0.965875  0.840183   0.801161  0.883200     8\n",
       "50  0.665661       2  0.821634  0.587234   0.439841  0.883200     8\n",
       "51  0.936234       3  0.989711  0.871080   0.956023  0.800000     8\n",
       "52  0.814735       4  0.916282  0.705479   0.616766  0.824000     8\n",
       "53  0.919000     avg  0.955759  0.852433   0.836672  0.868800     8\n",
       "54  0.824569       0  0.986923  0.776986   0.635305  1.000000     9\n",
       "55  0.925000       1  0.996071  0.890566   0.803632  0.998590     9\n",
       "56  0.930172       2  0.998088  0.897468   0.814007  1.000000     9\n",
       "57  0.912500       3  0.990172  0.874303   0.779249  0.995769     9\n",
       "58  0.974138       4  0.997199  0.958960   0.930943  0.988717     9\n",
       "59  0.940517     avg  0.999622  0.911311   0.837072  1.000000     9"
      ]
     },
     "execution_count": 415,
     "metadata": {},
     "output_type": "execute_result"
    }
   ],
   "source": [
    "batch_size = 32\n",
    "epochs = 3\n",
    "verbose = 1\n",
    "n = 5\n",
    "metrics = []\n",
    "# for test_group in group_list:\n",
    "# for test_group in ['Mousebrain_MG08_2017_GruppeA']: #['Dataset 18', 'MP 39']:\n",
    "#     res = train_valid_test_split(X, y, groups, test_group, valid_ratio=0.0)\n",
    "#     (X_train, y_train), (X_valid, y_valid), (X_test, y_test) = res\n",
    "\n",
    "from sklearn.model_selection import GroupKFold\n",
    "\n",
    "gkfold = GroupKFold(n_splits=10)\n",
    "for split_i, (train_inds, test_inds) in enumerate(gkfold.split(X, y, groups)):\n",
    "    X_train, y_train = X[train_inds], y[train_inds]\n",
    "    X_test, y_test = X[test_inds], y[test_inds]\n",
    "    \n",
    "    image_data_gen.fit(X_train)\n",
    "    \n",
    "#     print(np.unique(groups[test_inds]))\n",
    "    print('Split:', split_i)\n",
    "\n",
    "    y_test_score_avg = np.zeros(y_test.shape)\n",
    "    for i in range(n):\n",
    "        print('Attempt:', i)\n",
    "\n",
    "        model = create_model(metrics=['accuracy'],\n",
    "                             opt=SGD(lr=0.01, momentum=0.9, decay=0, nesterov=False))\n",
    "#         model.fit(X_train, y_train,\n",
    "# #                   validation_data=(X_valid, y_valid),\n",
    "#                   batch_size=batch_size, epochs=epochs, verbose=verbose)\n",
    "        model.fit_generator(image_data_gen.flow(X_train, y_train),\n",
    "                            steps_per_epoch=X_train.shape[0]//batch_size*2, epochs=epochs, verbose=verbose)\n",
    "        \n",
    "        y_test_score = model.predict(X_test, verbose=verbose)\n",
    "        y_test_score_avg += y_test_score\n",
    "        \n",
    "        test_m = calc_metrics(y_test, y_test_score)\n",
    "#         test_m['model'] = model\n",
    "#         test_m['group'] = test_group\n",
    "        test_m['split'] = str(split_i)\n",
    "        test_m['attempt'] = str(i)\n",
    "        metrics.append(test_m)\n",
    "        print(test_m)\n",
    "    \n",
    "    y_test_score_avg /= n\n",
    "    test_m_avg = calc_metrics(y_test, y_test_score_avg)\n",
    "#     test_m_avg['group'] = test_group\n",
    "    test_m_avg['split'] = str(split_i)\n",
    "    test_m_avg['attempt'] = 'avg'\n",
    "    metrics.append(test_m_avg)\n",
    "    print()\n",
    "    print('Avg pred metrics:', test_m_avg)\n",
    "    print()\n",
    "\n",
    "metrics_df = pd.DataFrame(metrics)\n",
    "metrics_df.to_pickle('train_res.pkl')\n",
    "metrics_df"
   ]
  },
  {
   "cell_type": "code",
   "execution_count": 416,
   "metadata": {},
   "outputs": [
    {
     "data": {
      "text/html": [
       "<div>\n",
       "<style>\n",
       "    .dataframe thead tr:only-child th {\n",
       "        text-align: right;\n",
       "    }\n",
       "\n",
       "    .dataframe thead th {\n",
       "        text-align: left;\n",
       "    }\n",
       "\n",
       "    .dataframe tbody tr th {\n",
       "        vertical-align: top;\n",
       "    }\n",
       "</style>\n",
       "<table border=\"1\" class=\"dataframe\">\n",
       "  <thead>\n",
       "    <tr style=\"text-align: right;\">\n",
       "      <th></th>\n",
       "      <th>accuracy</th>\n",
       "      <th>attempt</th>\n",
       "      <th>auc</th>\n",
       "      <th>f1</th>\n",
       "      <th>precision</th>\n",
       "      <th>recall</th>\n",
       "      <th>split</th>\n",
       "    </tr>\n",
       "  </thead>\n",
       "  <tbody>\n",
       "    <tr>\n",
       "      <th>5</th>\n",
       "      <td>0.988357</td>\n",
       "      <td>avg</td>\n",
       "      <td>0.999501</td>\n",
       "      <td>0.986398</td>\n",
       "      <td>0.982932</td>\n",
       "      <td>0.989889</td>\n",
       "      <td>0</td>\n",
       "    </tr>\n",
       "    <tr>\n",
       "      <th>11</th>\n",
       "      <td>0.977145</td>\n",
       "      <td>avg</td>\n",
       "      <td>0.999482</td>\n",
       "      <td>0.955649</td>\n",
       "      <td>0.915064</td>\n",
       "      <td>1.000000</td>\n",
       "      <td>1</td>\n",
       "    </tr>\n",
       "    <tr>\n",
       "      <th>17</th>\n",
       "      <td>0.986231</td>\n",
       "      <td>avg</td>\n",
       "      <td>0.999786</td>\n",
       "      <td>0.977839</td>\n",
       "      <td>0.959239</td>\n",
       "      <td>0.997175</td>\n",
       "      <td>2</td>\n",
       "    </tr>\n",
       "    <tr>\n",
       "      <th>23</th>\n",
       "      <td>0.967686</td>\n",
       "      <td>avg</td>\n",
       "      <td>0.999226</td>\n",
       "      <td>0.950232</td>\n",
       "      <td>0.908629</td>\n",
       "      <td>0.995828</td>\n",
       "      <td>3</td>\n",
       "    </tr>\n",
       "    <tr>\n",
       "      <th>29</th>\n",
       "      <td>0.967728</td>\n",
       "      <td>avg</td>\n",
       "      <td>0.993399</td>\n",
       "      <td>0.946082</td>\n",
       "      <td>0.990964</td>\n",
       "      <td>0.905089</td>\n",
       "      <td>4</td>\n",
       "    </tr>\n",
       "    <tr>\n",
       "      <th>35</th>\n",
       "      <td>0.980164</td>\n",
       "      <td>avg</td>\n",
       "      <td>0.997858</td>\n",
       "      <td>0.977948</td>\n",
       "      <td>0.977011</td>\n",
       "      <td>0.978887</td>\n",
       "      <td>5</td>\n",
       "    </tr>\n",
       "    <tr>\n",
       "      <th>41</th>\n",
       "      <td>0.965487</td>\n",
       "      <td>avg</td>\n",
       "      <td>0.995451</td>\n",
       "      <td>0.951923</td>\n",
       "      <td>0.917729</td>\n",
       "      <td>0.988764</td>\n",
       "      <td>6</td>\n",
       "    </tr>\n",
       "    <tr>\n",
       "      <th>47</th>\n",
       "      <td>0.956053</td>\n",
       "      <td>avg</td>\n",
       "      <td>0.996671</td>\n",
       "      <td>0.926407</td>\n",
       "      <td>0.872283</td>\n",
       "      <td>0.987692</td>\n",
       "      <td>7</td>\n",
       "    </tr>\n",
       "    <tr>\n",
       "      <th>53</th>\n",
       "      <td>0.919000</td>\n",
       "      <td>avg</td>\n",
       "      <td>0.955759</td>\n",
       "      <td>0.852433</td>\n",
       "      <td>0.836672</td>\n",
       "      <td>0.868800</td>\n",
       "      <td>8</td>\n",
       "    </tr>\n",
       "    <tr>\n",
       "      <th>59</th>\n",
       "      <td>0.940517</td>\n",
       "      <td>avg</td>\n",
       "      <td>0.999622</td>\n",
       "      <td>0.911311</td>\n",
       "      <td>0.837072</td>\n",
       "      <td>1.000000</td>\n",
       "      <td>9</td>\n",
       "    </tr>\n",
       "  </tbody>\n",
       "</table>\n",
       "</div>"
      ],
      "text/plain": [
       "    accuracy attempt       auc        f1  precision    recall split\n",
       "5   0.988357     avg  0.999501  0.986398   0.982932  0.989889     0\n",
       "11  0.977145     avg  0.999482  0.955649   0.915064  1.000000     1\n",
       "17  0.986231     avg  0.999786  0.977839   0.959239  0.997175     2\n",
       "23  0.967686     avg  0.999226  0.950232   0.908629  0.995828     3\n",
       "29  0.967728     avg  0.993399  0.946082   0.990964  0.905089     4\n",
       "35  0.980164     avg  0.997858  0.977948   0.977011  0.978887     5\n",
       "41  0.965487     avg  0.995451  0.951923   0.917729  0.988764     6\n",
       "47  0.956053     avg  0.996671  0.926407   0.872283  0.987692     7\n",
       "53  0.919000     avg  0.955759  0.852433   0.836672  0.868800     8\n",
       "59  0.940517     avg  0.999622  0.911311   0.837072  1.000000     9"
      ]
     },
     "execution_count": 416,
     "metadata": {},
     "output_type": "execute_result"
    }
   ],
   "source": [
    "metrics_df[metrics_df.attempt == 'avg']"
   ]
  },
  {
   "cell_type": "code",
   "execution_count": 417,
   "metadata": {},
   "outputs": [
    {
     "data": {
      "text/html": [
       "<div>\n",
       "<style>\n",
       "    .dataframe thead tr:only-child th {\n",
       "        text-align: right;\n",
       "    }\n",
       "\n",
       "    .dataframe thead th {\n",
       "        text-align: left;\n",
       "    }\n",
       "\n",
       "    .dataframe tbody tr th {\n",
       "        vertical-align: top;\n",
       "    }\n",
       "</style>\n",
       "<table border=\"1\" class=\"dataframe\">\n",
       "  <thead>\n",
       "    <tr style=\"text-align: right;\">\n",
       "      <th></th>\n",
       "      <th>mean</th>\n",
       "      <th>std</th>\n",
       "    </tr>\n",
       "  </thead>\n",
       "  <tbody>\n",
       "    <tr>\n",
       "      <th>accuracy</th>\n",
       "      <td>0.964837</td>\n",
       "      <td>0.021561</td>\n",
       "    </tr>\n",
       "    <tr>\n",
       "      <th>f1</th>\n",
       "      <td>0.943622</td>\n",
       "      <td>0.039578</td>\n",
       "    </tr>\n",
       "    <tr>\n",
       "      <th>precision</th>\n",
       "      <td>0.919760</td>\n",
       "      <td>0.057776</td>\n",
       "    </tr>\n",
       "    <tr>\n",
       "      <th>recall</th>\n",
       "      <td>0.971212</td>\n",
       "      <td>0.045687</td>\n",
       "    </tr>\n",
       "  </tbody>\n",
       "</table>\n",
       "</div>"
      ],
      "text/plain": [
       "               mean       std\n",
       "accuracy   0.964837  0.021561\n",
       "f1         0.943622  0.039578\n",
       "precision  0.919760  0.057776\n",
       "recall     0.971212  0.045687"
      ]
     },
     "execution_count": 417,
     "metadata": {},
     "output_type": "execute_result"
    }
   ],
   "source": [
    "metrics_df[metrics_df.attempt == 'avg'][['accuracy', 'f1', 'precision', 'recall']].agg([np.mean, np.std]).T"
   ]
  },
  {
   "cell_type": "code",
   "execution_count": 24,
   "metadata": {
    "collapsed": true
   },
   "outputs": [],
   "source": [
    "import numpy as np\n",
    "import pandas as pd\n",
    "\n",
    "metrics_df = pd.read_pickle('train_res.pkl')"
   ]
  },
  {
   "cell_type": "code",
   "execution_count": 22,
   "metadata": {},
   "outputs": [
    {
     "data": {
      "text/html": [
       "<div>\n",
       "<style>\n",
       "    .dataframe thead tr:only-child th {\n",
       "        text-align: right;\n",
       "    }\n",
       "\n",
       "    .dataframe thead th {\n",
       "        text-align: left;\n",
       "    }\n",
       "\n",
       "    .dataframe tbody tr th {\n",
       "        vertical-align: top;\n",
       "    }\n",
       "</style>\n",
       "<table border=\"1\" class=\"dataframe\">\n",
       "  <thead>\n",
       "    <tr style=\"text-align: right;\">\n",
       "      <th></th>\n",
       "      <th>accuracy</th>\n",
       "      <th>attempt</th>\n",
       "      <th>auc</th>\n",
       "      <th>f1</th>\n",
       "      <th>precision</th>\n",
       "      <th>recall</th>\n",
       "      <th>split</th>\n",
       "    </tr>\n",
       "  </thead>\n",
       "  <tbody>\n",
       "    <tr>\n",
       "      <th>5</th>\n",
       "      <td>0.988357</td>\n",
       "      <td>avg</td>\n",
       "      <td>0.999501</td>\n",
       "      <td>0.986398</td>\n",
       "      <td>0.982932</td>\n",
       "      <td>0.989889</td>\n",
       "      <td>0</td>\n",
       "    </tr>\n",
       "    <tr>\n",
       "      <th>11</th>\n",
       "      <td>0.977145</td>\n",
       "      <td>avg</td>\n",
       "      <td>0.999482</td>\n",
       "      <td>0.955649</td>\n",
       "      <td>0.915064</td>\n",
       "      <td>1.000000</td>\n",
       "      <td>1</td>\n",
       "    </tr>\n",
       "    <tr>\n",
       "      <th>17</th>\n",
       "      <td>0.986231</td>\n",
       "      <td>avg</td>\n",
       "      <td>0.999786</td>\n",
       "      <td>0.977839</td>\n",
       "      <td>0.959239</td>\n",
       "      <td>0.997175</td>\n",
       "      <td>2</td>\n",
       "    </tr>\n",
       "    <tr>\n",
       "      <th>23</th>\n",
       "      <td>0.967686</td>\n",
       "      <td>avg</td>\n",
       "      <td>0.999226</td>\n",
       "      <td>0.950232</td>\n",
       "      <td>0.908629</td>\n",
       "      <td>0.995828</td>\n",
       "      <td>3</td>\n",
       "    </tr>\n",
       "    <tr>\n",
       "      <th>29</th>\n",
       "      <td>0.967728</td>\n",
       "      <td>avg</td>\n",
       "      <td>0.993399</td>\n",
       "      <td>0.946082</td>\n",
       "      <td>0.990964</td>\n",
       "      <td>0.905089</td>\n",
       "      <td>4</td>\n",
       "    </tr>\n",
       "    <tr>\n",
       "      <th>35</th>\n",
       "      <td>0.980164</td>\n",
       "      <td>avg</td>\n",
       "      <td>0.997858</td>\n",
       "      <td>0.977948</td>\n",
       "      <td>0.977011</td>\n",
       "      <td>0.978887</td>\n",
       "      <td>5</td>\n",
       "    </tr>\n",
       "    <tr>\n",
       "      <th>41</th>\n",
       "      <td>0.965487</td>\n",
       "      <td>avg</td>\n",
       "      <td>0.995451</td>\n",
       "      <td>0.951923</td>\n",
       "      <td>0.917729</td>\n",
       "      <td>0.988764</td>\n",
       "      <td>6</td>\n",
       "    </tr>\n",
       "    <tr>\n",
       "      <th>47</th>\n",
       "      <td>0.956053</td>\n",
       "      <td>avg</td>\n",
       "      <td>0.996671</td>\n",
       "      <td>0.926407</td>\n",
       "      <td>0.872283</td>\n",
       "      <td>0.987692</td>\n",
       "      <td>7</td>\n",
       "    </tr>\n",
       "    <tr>\n",
       "      <th>53</th>\n",
       "      <td>0.919000</td>\n",
       "      <td>avg</td>\n",
       "      <td>0.955759</td>\n",
       "      <td>0.852433</td>\n",
       "      <td>0.836672</td>\n",
       "      <td>0.868800</td>\n",
       "      <td>8</td>\n",
       "    </tr>\n",
       "    <tr>\n",
       "      <th>59</th>\n",
       "      <td>0.940517</td>\n",
       "      <td>avg</td>\n",
       "      <td>0.999622</td>\n",
       "      <td>0.911311</td>\n",
       "      <td>0.837072</td>\n",
       "      <td>1.000000</td>\n",
       "      <td>9</td>\n",
       "    </tr>\n",
       "  </tbody>\n",
       "</table>\n",
       "</div>"
      ],
      "text/plain": [
       "    accuracy attempt       auc        f1  precision    recall split\n",
       "5   0.988357     avg  0.999501  0.986398   0.982932  0.989889     0\n",
       "11  0.977145     avg  0.999482  0.955649   0.915064  1.000000     1\n",
       "17  0.986231     avg  0.999786  0.977839   0.959239  0.997175     2\n",
       "23  0.967686     avg  0.999226  0.950232   0.908629  0.995828     3\n",
       "29  0.967728     avg  0.993399  0.946082   0.990964  0.905089     4\n",
       "35  0.980164     avg  0.997858  0.977948   0.977011  0.978887     5\n",
       "41  0.965487     avg  0.995451  0.951923   0.917729  0.988764     6\n",
       "47  0.956053     avg  0.996671  0.926407   0.872283  0.987692     7\n",
       "53  0.919000     avg  0.955759  0.852433   0.836672  0.868800     8\n",
       "59  0.940517     avg  0.999622  0.911311   0.837072  1.000000     9"
      ]
     },
     "execution_count": 22,
     "metadata": {},
     "output_type": "execute_result"
    }
   ],
   "source": [
    "metrics_df[metrics_df.attempt == 'avg']"
   ]
  },
  {
   "cell_type": "code",
   "execution_count": 25,
   "metadata": {},
   "outputs": [
    {
     "data": {
      "text/html": [
       "<div>\n",
       "<style>\n",
       "    .dataframe thead tr:only-child th {\n",
       "        text-align: right;\n",
       "    }\n",
       "\n",
       "    .dataframe thead th {\n",
       "        text-align: left;\n",
       "    }\n",
       "\n",
       "    .dataframe tbody tr th {\n",
       "        vertical-align: top;\n",
       "    }\n",
       "</style>\n",
       "<table border=\"1\" class=\"dataframe\">\n",
       "  <thead>\n",
       "    <tr style=\"text-align: right;\">\n",
       "      <th></th>\n",
       "      <th>mean</th>\n",
       "      <th>std</th>\n",
       "    </tr>\n",
       "  </thead>\n",
       "  <tbody>\n",
       "    <tr>\n",
       "      <th>accuracy</th>\n",
       "      <td>0.964837</td>\n",
       "      <td>0.021561</td>\n",
       "    </tr>\n",
       "    <tr>\n",
       "      <th>f1</th>\n",
       "      <td>0.943622</td>\n",
       "      <td>0.039578</td>\n",
       "    </tr>\n",
       "    <tr>\n",
       "      <th>precision</th>\n",
       "      <td>0.919760</td>\n",
       "      <td>0.057776</td>\n",
       "    </tr>\n",
       "    <tr>\n",
       "      <th>recall</th>\n",
       "      <td>0.971212</td>\n",
       "      <td>0.045687</td>\n",
       "    </tr>\n",
       "  </tbody>\n",
       "</table>\n",
       "</div>"
      ],
      "text/plain": [
       "               mean       std\n",
       "accuracy   0.964837  0.021561\n",
       "f1         0.943622  0.039578\n",
       "precision  0.919760  0.057776\n",
       "recall     0.971212  0.045687"
      ]
     },
     "execution_count": 25,
     "metadata": {},
     "output_type": "execute_result"
    }
   ],
   "source": [
    "metrics_df[metrics_df.attempt == 'avg'][['accuracy', 'f1', 'precision', 'recall']].agg([np.mean, np.std]).T"
   ]
  },
  {
   "cell_type": "code",
   "execution_count": 33,
   "metadata": {},
   "outputs": [
    {
     "data": {
      "text/plain": [
       "<matplotlib.legend.Legend at 0x7f3a577685f8>"
      ]
     },
     "execution_count": 33,
     "metadata": {},
     "output_type": "execute_result"
    },
    {
     "data": {
      "image/png": "[encoded data removed]",
      "text/plain": [
       "<matplotlib.figure.Figure at 0x7f3a538efa20>"
      ]
     },
     "metadata": {},
     "output_type": "display_data"
    }
   ],
   "source": [
    "from matplotlib import pyplot as plt\n",
    "%matplotlib inline\n",
    "\n",
    "df = metrics_df[metrics_df.attempt != 'avg']\n",
    "\n",
    "plt.figure(figsize=(10, 5))\n",
    "# plt.scatter(x=df['split'], y=df['f1'], c='blue')\n",
    "# plt.scatter(x=df['split'], y=df['accuracy'], c='green')\n",
    "plt.scatter(x=df['split'], y=df['precision'], c='red')\n",
    "plt.scatter(x=df['split'], y=df['recall'], c='green')\n",
    "plt.xlabel('Cross-validation fold')\n",
    "plt.ylabel('Metric')\n",
    "plt.legend()"
   ]
  },
  {
   "cell_type": "markdown",
   "metadata": {},
   "source": [
    "## Test Model on New Data"
   ]
  },
  {
   "cell_type": "markdown",
   "metadata": {},
   "source": [
    "#### Train models"
   ]
  },
  {
   "cell_type": "code",
   "execution_count": 57,
   "metadata": {},
   "outputs": [
    {
     "data": {
      "text/plain": [
       "((23206, 56, 56, 1), (23206, 2))"
      ]
     },
     "execution_count": 57,
     "metadata": {},
     "output_type": "execute_result"
    }
   ],
   "source": [
    "X.shape, y.shape"
   ]
  },
  {
   "cell_type": "code",
   "execution_count": 59,
   "metadata": {},
   "outputs": [
    {
     "name": "stdout",
     "output_type": "stream",
     "text": [
      "Attempt: 0\n",
      "Epoch 1/3\n",
      "23206/23206 [==============================] - 18s - loss: 3.0373 - acc: 0.9757    \n",
      "Epoch 2/3\n",
      "23206/23206 [==============================] - 14s - loss: 0.1691 - acc: 0.9816    \n",
      "Epoch 3/3\n",
      "23206/23206 [==============================] - 14s - loss: 0.1711 - acc: 0.9825    \n",
      "Attempt: 1\n",
      "Epoch 1/3\n",
      "23206/23206 [==============================] - 15s - loss: 3.0360 - acc: 0.9747    \n",
      "Epoch 2/3\n",
      "23206/23206 [==============================] - 14s - loss: 0.1793 - acc: 0.9804    \n",
      "Epoch 3/3\n",
      "23206/23206 [==============================] - 14s - loss: 0.1770 - acc: 0.9810    \n",
      "Attempt: 2\n",
      "Epoch 1/3\n",
      "23206/23206 [==============================] - 15s - loss: 3.0336 - acc: 0.9741    \n",
      "Epoch 2/3\n",
      "23206/23206 [==============================] - 14s - loss: 0.1728 - acc: 0.9809    \n",
      "Epoch 3/3\n",
      "23206/23206 [==============================] - 14s - loss: 0.1662 - acc: 0.9805    \n",
      "Attempt: 3\n",
      "Epoch 1/3\n",
      "23206/23206 [==============================] - 15s - loss: 3.0255 - acc: 0.9727    \n",
      "Epoch 2/3\n",
      "23206/23206 [==============================] - 14s - loss: 0.1703 - acc: 0.9806    \n",
      "Epoch 3/3\n",
      "23206/23206 [==============================] - 14s - loss: 0.1735 - acc: 0.9816    \n",
      "Attempt: 4\n",
      "Epoch 1/3\n",
      "23206/23206 [==============================] - 15s - loss: 3.0380 - acc: 0.9719    \n",
      "Epoch 2/3\n",
      "23206/23206 [==============================] - 14s - loss: 0.1809 - acc: 0.9803    \n",
      "Epoch 3/3\n",
      "23206/23206 [==============================] - 14s - loss: 0.1702 - acc: 0.9816    \n"
     ]
    }
   ],
   "source": [
    "model_list = []\n",
    "for i in range(5):\n",
    "    print('Attempt:', i)\n",
    "    model = create_model(metrics=['accuracy'],\n",
    "                         opt=SGD(lr=0.01, momentum=0.9, decay=0, nesterov=False))\n",
    "    model.fit(X, y, batch_size=32, epochs=3, verbose=True)\n",
    "    model_list.append(model)"
   ]
  },
  {
   "cell_type": "markdown",
   "metadata": {},
   "source": [
    "#### Fetch test data"
   ]
  },
  {
   "cell_type": "code",
   "execution_count": 71,
   "metadata": {
    "collapsed": true
   },
   "outputs": [],
   "source": [
    "gql_host = 'http://metaspace2020.eu/graphql'\n",
    "iso_img_host = 'http://metaspace2020.eu'\n",
    "jwt_token = '***'"
   ]
  },
  {
   "cell_type": "code",
   "execution_count": 70,
   "metadata": {
    "collapsed": true
   },
   "outputs": [],
   "source": [
    "all_annot_query = '''query($ds_id: String, $limit: Int) {\n",
    "  allAnnotations(\n",
    "    datasetFilter: {ids: $ds_id}\n",
    "    filter: {\n",
    "      database: \"HMDB-v4\"\n",
    "      fdrLevel: 0.5\n",
    "    }\n",
    "    limit: $limit\n",
    "    orderBy: ORDER_BY_MSM\n",
    "    sortingOrder: DESCENDING\n",
    "  ){\n",
    "    sumFormula\n",
    "    adduct\n",
    "    fdrLevel\n",
    "    msmScore\n",
    "    isotopeImages {\n",
    "      url\n",
    "    }\n",
    "  }\n",
    "}'''"
   ]
  },
  {
   "cell_type": "code",
   "execution_count": 81,
   "metadata": {
    "collapsed": true
   },
   "outputs": [],
   "source": [
    "from requests import post, get\n",
    "from io import BytesIO\n",
    "from skimage.transform import resize\n",
    "from PIL import Image"
   ]
  },
  {
   "cell_type": "code",
   "execution_count": 82,
   "metadata": {
    "collapsed": true
   },
   "outputs": [],
   "source": [
    "def fetch_ds_images(ds_id, limit=50):\n",
    "    variables = {\n",
    "        'ds_id': ds_id,\n",
    "        'limit': limit\n",
    "    }\n",
    "    images = []\n",
    "    resp = post(gql_host,\n",
    "                json={'query': all_annot_query, 'variables': variables},\n",
    "                headers={'Authorization': 'Bearer {}'.format(jwt_token)}).json()\n",
    "    if 'errors' in resp:\n",
    "        print(resp['errors'])\n",
    "    else:\n",
    "        ann_data = resp['data']['allAnnotations']\n",
    "        for ann in ann_data:\n",
    "            url = ann['isotopeImages'][0]['url']\n",
    "            resp = get(iso_img_host + url)\n",
    "            img = np.asarray(Image.open(BytesIO(resp.content)))\n",
    "            img = img[:,:,0:1]\n",
    "            img = img / 255\n",
    "            images.append({'img': img,\n",
    "                           'img_r': resize(img, (size, size), mode='reflect'),\n",
    "                           'sf': ann['sumFormula'], 'add': ann['adduct'],\n",
    "                           'fdr': ann['fdrLevel'], 'msm': ann['msmScore']})\n",
    "    return images"
   ]
  },
  {
   "cell_type": "code",
   "execution_count": 122,
   "metadata": {
    "collapsed": true
   },
   "outputs": [],
   "source": [
    "# ds_id = '2018-01-24_19h05m40s'\n",
    "# ds_id = '2018-06-23_22h43m54s'\n",
    "ds_id = '2017-05-31_11h51m56s'\n",
    "n = 20"
   ]
  },
  {
   "cell_type": "code",
   "execution_count": 123,
   "metadata": {},
   "outputs": [
    {
     "data": {
      "text/html": [
       "<div>\n",
       "<style>\n",
       "    .dataframe thead tr:only-child th {\n",
       "        text-align: right;\n",
       "    }\n",
       "\n",
       "    .dataframe thead th {\n",
       "        text-align: left;\n",
       "    }\n",
       "\n",
       "    .dataframe tbody tr th {\n",
       "        vertical-align: top;\n",
       "    }\n",
       "</style>\n",
       "<table border=\"1\" class=\"dataframe\">\n",
       "  <thead>\n",
       "    <tr style=\"text-align: right;\">\n",
       "      <th></th>\n",
       "      <th>add</th>\n",
       "      <th>fdr</th>\n",
       "      <th>img</th>\n",
       "      <th>img_r</th>\n",
       "      <th>msm</th>\n",
       "      <th>sf</th>\n",
       "    </tr>\n",
       "  </thead>\n",
       "  <tbody>\n",
       "    <tr>\n",
       "      <th>0</th>\n",
       "      <td>-H</td>\n",
       "      <td>0.05</td>\n",
       "      <td>[[[0.0], [0.0], [0.0], [0.0], [0.0], [0.0], [0...</td>\n",
       "      <td>[[[0.0], [0.0], [0.0], [0.0], [0.0], [0.0], [0...</td>\n",
       "      <td>0.798153</td>\n",
       "      <td>C29H48O4</td>\n",
       "    </tr>\n",
       "    <tr>\n",
       "      <th>1</th>\n",
       "      <td>-H</td>\n",
       "      <td>0.05</td>\n",
       "      <td>[[[0.0], [0.0], [0.0], [0.0], [0.0], [0.0], [0...</td>\n",
       "      <td>[[[0.0], [0.0], [0.0], [0.0], [0.0], [0.0], [0...</td>\n",
       "      <td>0.783151</td>\n",
       "      <td>C47H83O13P</td>\n",
       "    </tr>\n",
       "    <tr>\n",
       "      <th>2</th>\n",
       "      <td>-H</td>\n",
       "      <td>0.05</td>\n",
       "      <td>[[[0.0], [0.0], [0.0], [0.0], [0.0], [0.0], [0...</td>\n",
       "      <td>[[[0.0], [0.0], [0.0], [0.0], [0.0], [0.0], [0...</td>\n",
       "      <td>0.753126</td>\n",
       "      <td>C43H78NO8P</td>\n",
       "    </tr>\n",
       "    <tr>\n",
       "      <th>3</th>\n",
       "      <td>-H</td>\n",
       "      <td>0.05</td>\n",
       "      <td>[[[0.0], [0.0], [0.0], [0.0], [0.0], [0.0], [0...</td>\n",
       "      <td>[[[0.0], [0.0], [0.0], [0.0], [0.0], [0.0], [0...</td>\n",
       "      <td>0.710410</td>\n",
       "      <td>C30H48O3</td>\n",
       "    </tr>\n",
       "    <tr>\n",
       "      <th>4</th>\n",
       "      <td>-H</td>\n",
       "      <td>0.05</td>\n",
       "      <td>[[[0.0], [0.0], [0.0], [0.0], [0.0], [0.0], [0...</td>\n",
       "      <td>[[[0.0], [0.0], [0.0], [0.0], [0.0], [0.0], [0...</td>\n",
       "      <td>0.690226</td>\n",
       "      <td>C18H34O4</td>\n",
       "    </tr>\n",
       "  </tbody>\n",
       "</table>\n",
       "</div>"
      ],
      "text/plain": [
       "  add   fdr                                                img  \\\n",
       "0  -H  0.05  [[[0.0], [0.0], [0.0], [0.0], [0.0], [0.0], [0...   \n",
       "1  -H  0.05  [[[0.0], [0.0], [0.0], [0.0], [0.0], [0.0], [0...   \n",
       "2  -H  0.05  [[[0.0], [0.0], [0.0], [0.0], [0.0], [0.0], [0...   \n",
       "3  -H  0.05  [[[0.0], [0.0], [0.0], [0.0], [0.0], [0.0], [0...   \n",
       "4  -H  0.05  [[[0.0], [0.0], [0.0], [0.0], [0.0], [0.0], [0...   \n",
       "\n",
       "                                               img_r       msm          sf  \n",
       "0  [[[0.0], [0.0], [0.0], [0.0], [0.0], [0.0], [0...  0.798153    C29H48O4  \n",
       "1  [[[0.0], [0.0], [0.0], [0.0], [0.0], [0.0], [0...  0.783151  C47H83O13P  \n",
       "2  [[[0.0], [0.0], [0.0], [0.0], [0.0], [0.0], [0...  0.753126  C43H78NO8P  \n",
       "3  [[[0.0], [0.0], [0.0], [0.0], [0.0], [0.0], [0...  0.710410    C30H48O3  \n",
       "4  [[[0.0], [0.0], [0.0], [0.0], [0.0], [0.0], [0...  0.690226    C18H34O4  "
      ]
     },
     "execution_count": 123,
     "metadata": {},
     "output_type": "execute_result"
    }
   ],
   "source": [
    "ds_images = fetch_ds_images(ds_id=ds_id, limit=n)\n",
    "ds_images_df = pd.DataFrame(ds_images).sort_values(by='msm', ascending=False)\n",
    "ds_images_df.head()"
   ]
  },
  {
   "cell_type": "code",
   "execution_count": 124,
   "metadata": {
    "collapsed": true
   },
   "outputs": [],
   "source": [
    "img = ds_images[2]['img_r']"
   ]
  },
  {
   "cell_type": "code",
   "execution_count": 125,
   "metadata": {},
   "outputs": [
    {
     "data": {
      "text/plain": [
       "<matplotlib.image.AxesImage at 0x7f39ecc761d0>"
      ]
     },
     "execution_count": 125,
     "metadata": {},
     "output_type": "execute_result"
    },
    {
     "data": {
      "image/png": "[encoded data removed]",
      "text/plain": [
       "<matplotlib.figure.Figure at 0x7f39edd705f8>"
      ]
     },
     "metadata": {},
     "output_type": "display_data"
    }
   ],
   "source": [
    "plt.imshow(img[:,:,0])"
   ]
  },
  {
   "cell_type": "code",
   "execution_count": 126,
   "metadata": {
    "collapsed": true
   },
   "outputs": [],
   "source": [
    "# plt.imshow(img[:,:,3])"
   ]
  },
  {
   "cell_type": "markdown",
   "metadata": {},
   "source": [
    "#### Test data predictions"
   ]
  },
  {
   "cell_type": "code",
   "execution_count": 127,
   "metadata": {},
   "outputs": [
    {
     "data": {
      "text/plain": [
       "(20, 56, 56, 1)"
      ]
     },
     "execution_count": 127,
     "metadata": {},
     "output_type": "execute_result"
    }
   ],
   "source": [
    "img_batch = np.stack(ds_images_df.img_r.values)\n",
    "img_batch.shape"
   ]
  },
  {
   "cell_type": "code",
   "execution_count": 128,
   "metadata": {
    "collapsed": true
   },
   "outputs": [],
   "source": [
    "img_score_list = []\n",
    "for model in model_list:\n",
    "    img_score = model.predict(img_batch)[:,1]\n",
    "    img_score_list.append(img_score)"
   ]
  },
  {
   "cell_type": "code",
   "execution_count": 129,
   "metadata": {},
   "outputs": [
    {
     "data": {
      "text/plain": [
       "(20, 5)"
      ]
     },
     "execution_count": 129,
     "metadata": {},
     "output_type": "execute_result"
    }
   ],
   "source": [
    "img_scores = np.stack(img_score_list).T\n",
    "img_scores.shape"
   ]
  },
  {
   "cell_type": "code",
   "execution_count": 130,
   "metadata": {
    "scrolled": false
   },
   "outputs": [
    {
     "name": "stdout",
     "output_type": "stream",
     "text": [
      "[ 0.14228317  0.03843686  0.0503496   0.05771807  0.11825536] 0.0814086 ON SAMPLE\n"
     ]
    },
    {
     "data": {
      "image/png": "[encoded data removed]",
      "text/plain": [
       "<matplotlib.figure.Figure at 0x7f39ec995d30>"
      ]
     },
     "metadata": {},
     "output_type": "display_data"
    },
    {
     "name": "stdout",
     "output_type": "stream",
     "text": [
      "[  4.06995183e-03   1.40609845e-04   1.58704952e-05   2.37869052e-03\n",
      "   1.24449925e-02] 0.00381002 ON SAMPLE\n"
     ]
    },
    {
     "data": {
      "image/png": "[encoded data removed]",
      "text/plain": [
       "<matplotlib.figure.Figure at 0x7f39ed52e978>"
      ]
     },
     "metadata": {},
     "output_type": "display_data"
    },
    {
     "name": "stdout",
     "output_type": "stream",
     "text": [
      "[  4.05033492e-03   3.19146988e-04   3.23706372e-05   4.00369754e-03\n",
      "   1.46592185e-02] 0.00461295 ON SAMPLE\n"
     ]
    },
    {
     "data": {
      "image/png": "[encoded data removed]",
      "text/plain": [
       "<matplotlib.figure.Figure at 0x7f39ec6d75c0>"
      ]
     },
     "metadata": {},
     "output_type": "display_data"
    },
    {
     "name": "stdout",
     "output_type": "stream",
     "text": [
      "[ 0.14677522  0.03015147  0.04820774  0.05502435  0.10239697] 0.0765112 ON SAMPLE\n"
     ]
    },
    {
     "data": {
      "image/png": "[encoded data removed]",
      "text/plain": [
       "<matplotlib.figure.Figure at 0x7f39ecd37278>"
      ]
     },
     "metadata": {},
     "output_type": "display_data"
    },
    {
     "name": "stdout",
     "output_type": "stream",
     "text": [
      "[  1.21647827e-02   7.53574364e-04   4.47510502e-05   7.25656794e-03\n",
      "   1.00346794e-02] 0.00605087 ON SAMPLE\n"
     ]
    },
    {
     "data": {
      "image/png": "[encoded data removed]",
      "text/plain": [
       "<matplotlib.figure.Figure at 0x7f39ecc76c18>"
      ]
     },
     "metadata": {},
     "output_type": "display_data"
    },
    {
     "name": "stdout",
     "output_type": "stream",
     "text": [
      "[  4.29195759e-04   4.86636927e-05   2.12753057e-05   1.97798782e-03\n",
      "   1.27992341e-02] 0.00305527 ON SAMPLE\n"
     ]
    },
    {
     "data": {
      "image/png": "[encoded data removed]",
      "text/plain": [
       "<matplotlib.figure.Figure at 0x7f39ed2430f0>"
      ]
     },
     "metadata": {},
     "output_type": "display_data"
    },
    {
     "name": "stdout",
     "output_type": "stream",
     "text": [
      "[  9.23075131e-04   7.93177824e-05   1.88519425e-05   2.35014735e-03\n",
      "   1.33409929e-02] 0.00334248 ON SAMPLE\n"
     ]
    },
    {
     "data": {
      "image/png": "[encoded data removed]",
      "text/plain": [
       "<matplotlib.figure.Figure at 0x7f39edc21a90>"
      ]
     },
     "metadata": {},
     "output_type": "display_data"
    },
    {
     "name": "stdout",
     "output_type": "stream",
     "text": [
      "[  1.48524344e-03   1.65579491e-04   2.48253964e-05   2.95725558e-03\n",
      "   1.26043102e-02] 0.00344744 ON SAMPLE\n"
     ]
    },
    {
     "data": {
      "image/png": "[encoded data removed]",
      "text/plain": [
       "<matplotlib.figure.Figure at 0x7f39eddb3e10>"
      ]
     },
     "metadata": {},
     "output_type": "display_data"
    },
    {
     "name": "stdout",
     "output_type": "stream",
     "text": [
      "[  1.42973650e-03   5.06496908e-05   8.57417490e-06   1.95746659e-03\n",
      "   9.81705543e-03] 0.0026527 ON SAMPLE\n"
     ]
    },
    {
     "data": {
      "image/png": "[encoded data removed]",
      "text/plain": [
       "<matplotlib.figure.Figure at 0x7f39ed60a470>"
      ]
     },
     "metadata": {},
     "output_type": "display_data"
    },
    {
     "name": "stdout",
     "output_type": "stream",
     "text": [
      "[ 0.02239717  0.00177662  0.00023227  0.00821081  0.02328813] 0.011181 ON SAMPLE\n"
     ]
    },
    {
     "data": {
      "image/png": "[encoded data removed]",
      "text/plain": [
       "<matplotlib.figure.Figure at 0x7f39ecd5c2e8>"
      ]
     },
     "metadata": {},
     "output_type": "display_data"
    },
    {
     "name": "stdout",
     "output_type": "stream",
     "text": [
      "[  2.57030292e-03   1.71171021e-04   2.21658374e-05   2.86371144e-03\n",
      "   1.39756575e-02] 0.0039206 ON SAMPLE\n"
     ]
    },
    {
     "data": {
      "image/png": "[encoded data removed]",
      "text/plain": [
       "<matplotlib.figure.Figure at 0x7f39ed08ef28>"
      ]
     },
     "metadata": {},
     "output_type": "display_data"
    },
    {
     "name": "stdout",
     "output_type": "stream",
     "text": [
      "[  9.92099172e-04   1.05342537e-04   1.85995086e-05   2.13585421e-03\n",
      "   1.32079478e-02] 0.00329197 ON SAMPLE\n"
     ]
    },
    {
     "data": {
      "image/png": "[encoded data removed]",
      "text/plain": [
       "<matplotlib.figure.Figure at 0x7f39ed351c88>"
      ]
     },
     "metadata": {},
     "output_type": "display_data"
    },
    {
     "name": "stdout",
     "output_type": "stream",
     "text": [
      "[  9.35557671e-03   5.45932679e-04   6.09292001e-05   5.36017586e-03\n",
      "   1.91962719e-02] 0.00690378 ON SAMPLE\n"
     ]
    },
    {
     "data": {
      "image/png": "[encoded data removed]",
      "text/plain": [
       "<matplotlib.figure.Figure at 0x7f39ed615160>"
      ]
     },
     "metadata": {},
     "output_type": "display_data"
    },
    {
     "name": "stdout",
     "output_type": "stream",
     "text": [
      "[ 0.00939971  0.00985888  0.00175034  0.02948961  0.03904228] 0.0179082 ON SAMPLE\n"
     ]
    },
    {
     "data": {
      "image/png": "[encoded data removed]",
      "text/plain": [
       "<matplotlib.figure.Figure at 0x7f39ec67ecc0>"
      ]
     },
     "metadata": {},
     "output_type": "display_data"
    },
    {
     "name": "stdout",
     "output_type": "stream",
     "text": [
      "[  9.59235802e-03   2.92906101e-04   2.44462117e-05   3.99951078e-03\n",
      "   1.37518374e-02] 0.00553221 ON SAMPLE\n"
     ]
    },
    {
     "data": {
      "image/png": "[encoded data removed]",
      "text/plain": [
       "<matplotlib.figure.Figure at 0x7f39ec6298d0>"
      ]
     },
     "metadata": {},
     "output_type": "display_data"
    },
    {
     "name": "stdout",
     "output_type": "stream",
     "text": [
      "[ 0.01898968  0.01178986  0.00439257  0.03381367  0.08506764] 0.0308107 ON SAMPLE\n"
     ]
    },
    {
     "data": {
      "image/png": "[encoded data removed]",
      "text/plain": [
       "<matplotlib.figure.Figure at 0x7f39ed7669e8>"
      ]
     },
     "metadata": {},
     "output_type": "display_data"
    },
    {
     "name": "stdout",
     "output_type": "stream",
     "text": [
      "[  6.64268527e-03   2.59646244e-04   2.25158783e-05   3.91153013e-03\n",
      "   1.20286848e-02] 0.00457301 ON SAMPLE\n"
     ]
    },
    {
     "data": {
      "image/png": "[encoded data removed]",
      "text/plain": [
       "<matplotlib.figure.Figure at 0x7f39ed144a90>"
      ]
     },
     "metadata": {},
     "output_type": "display_data"
    },
    {
     "name": "stdout",
     "output_type": "stream",
     "text": [
      "[ 0.15109365  0.04246306  0.0573952   0.05843361  0.12078827] 0.0860348 ON SAMPLE\n"
     ]
    },
    {
     "data": {
      "image/png": "[encoded data removed]",
      "text/plain": [
       "<matplotlib.figure.Figure at 0x7f39ed2c8518>"
      ]
     },
     "metadata": {},
     "output_type": "display_data"
    },
    {
     "name": "stdout",
     "output_type": "stream",
     "text": [
      "[ 0.02794888  0.01182274  0.0061906   0.03263274  0.08816965] 0.0333529 ON SAMPLE\n"
     ]
    },
    {
     "data": {
      "image/png": "[encoded data removed]",
      "text/plain": [
       "<matplotlib.figure.Figure at 0x7f39ed36d400>"
      ]
     },
     "metadata": {},
     "output_type": "display_data"
    },
    {
     "name": "stdout",
     "output_type": "stream",
     "text": [
      "[  5.21485135e-03   9.76178926e-05   1.25376810e-05   2.03969353e-03\n",
      "   1.18248714e-02] 0.00383791 ON SAMPLE\n"
     ]
    },
    {
     "data": {
      "image/png": "[encoded data removed]",
      "text/plain": [
       "<matplotlib.figure.Figure at 0x7f39ed1e7160>"
      ]
     },
     "metadata": {},
     "output_type": "display_data"
    }
   ],
   "source": [
    "for img, scores in zip(img_batch, img_scores):\n",
    "    label = 'OFF SAMPLE' if scores.mean() > 0.5 else 'ON SAMPLE'\n",
    "    print(scores, scores.mean(), label)\n",
    "    plt.imshow(img[:,:,0])\n",
    "    plt.title('{:.2f} / {}'.format(scores.mean(), label))\n",
    "    plt.show()"
   ]
  }
 ],
 "metadata": {
  "kernelspec": {
   "display_name": "off-smpl",
   "language": "python",
   "name": "off-smpl"
  },
  "language_info": {
   "codemirror_mode": {
    "name": "ipython",
    "version": 3
   },
   "file_extension": ".py",
   "mimetype": "text/x-python",
   "name": "python",
   "nbconvert_exporter": "python",
   "pygments_lexer": "ipython3",
   "version": "3.6.1"
  }
 },
 "nbformat": 4,
 "nbformat_minor": 2
}
